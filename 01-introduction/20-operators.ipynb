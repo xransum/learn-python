{
 "cells": [
  {
   "cell_type": "markdown",
   "id": "5cfa05e7-6ee1-4213-aa53-ae3518380eae",
   "metadata": {},
   "source": [
    "# Operators in Python\n",
    "\n",
    "Operators are symbols in Python that perform operations on variables and values. They allow you to manipulate and perform calculations on data. Python supports various types of operators, including arithmetic, comparison, logical, and assignment operators. In this guide, we will explore these different types of operators and provide examples to help you understand their usage.\n",
    "\n",
    "## Arithmetic Operators\n",
    "\n",
    "Arithmetic operators are used for performing mathematical operations. Python provides the following arithmetic operators:\n",
    "\n",
    "- Addition (`+`): Adds two numbers.\n",
    "- Subtraction (`-`): Subtracts the second number from the first.\n",
    "- Multiplication (`*`): Multiplies two numbers.\n",
    "- Division (`/`): Divides the first number by the second.\n",
    "- Modulus (`%`): Returns the remainder of the division.\n",
    "- Exponentiation (`**`): Raises the first number to the power of the second.\n",
    "- Floor Division (`//`): Returns the integer part of the division result.\n",
    "\n",
    "Examples:"
   ]
  },
  {
   "cell_type": "code",
   "execution_count": null,
   "id": "95d55256-1fd8-479e-9c66-fb62c8a17012",
   "metadata": {},
   "outputs": [],
   "source": [
    "x = 10\n",
    "y = 5\n",
    "\n",
    "addition_result = x + y         # 15\n",
    "subtraction_result = x - y      # 5\n",
    "multiplication_result = x * y   # 50\n",
    "division_result = x / y         # 2.0\n",
    "modulus_result = x % y          # 0\n",
    "exponentiation_result = x ** y  # 100000\n",
    "floor_division_result = x // y  # 2"
   ]
  },
  {
   "cell_type": "markdown",
   "id": "d9ef0d28-718e-4854-ad91-204aa0886d77",
   "metadata": {},
   "source": [
    "## Comparison Operators\n",
    "\n",
    "Comparison operators are used to compare two values. They return a Boolean value (`True` or `False`) based on the comparison. Python provides the following comparison operators:\n",
    "\n",
    "- **Equal to** (`==`): Returns `True` if the values are equal.\n",
    "- **Not equal to** (`!=`): Returns `True` if the values are not equal.\n",
    "- **Greater than** (`>`): Returns `True` if the first value is greater.\n",
    "- **Less than** (`<`): Returns `True` if the first value is smaller.\n",
    "- **Greater than** *or* **equal to** (`>=`): Returns `True` if the first value is greater or equal.\n",
    "- **Less than** *or* **equal to** (`<=`): Returns `True` if the first value is smaller or equal.\n",
    "\n",
    "Examples:"
   ]
  },
  {
   "cell_type": "code",
   "execution_count": null,
   "id": "3884ea5a-b6c5-490f-82e6-73db531cd8e5",
   "metadata": {},
   "outputs": [],
   "source": [
    "a = 10\n",
    "b = 5\n",
    "\n",
    "is_equal = a == b             # False\n",
    "is_not_equal = a != b         # True\n",
    "is_greater = a > b            # True\n",
    "is_less = a < b               # False\n",
    "is_greater_or_equal = a >= b  # True\n",
    "is_less_or_equal = a <= b     # False"
   ]
  },
  {
   "cell_type": "markdown",
   "id": "0f16e0a1-74e4-4ee5-9b51-b8dc4bb0a7d6",
   "metadata": {},
   "source": [
    "## Logical Operators\n",
    "\n",
    "Logical operators are used to combine or manipulate Boolean values. They include:\n",
    "\n",
    "- Logical **AND** (`and`): Returns `True` if both conditions are `True`.\n",
    "- Logical **OR** (`or`): Returns `True` if at least one condition is `True`.\n",
    "- Logical **NOT** (`not`): Reverses the logical state of the condition.\n",
    "\n",
    "Examples:"
   ]
  },
  {
   "cell_type": "code",
   "execution_count": null,
   "id": "60cbc8ef-449f-4b88-b8f7-afb2f759cad7",
   "metadata": {
    "jp-MarkdownHeadingCollapsed": true
   },
   "outputs": [],
   "source": [
    "p = True\n",
    "q = False\n",
    "\n",
    "logical_and_result = p and q  # False\n",
    "logical_or_result = p or q    # True\n",
    "logical_not_result = not p    # False"
   ]
  },
  {
   "cell_type": "markdown",
   "id": "2b0d9db2-c6e2-4f58-a85d-22a3aaf3bbad",
   "metadata": {},
   "source": [
    "## Assignment Operators\n",
    "\n",
    "Assignment operators are used to assign values to variables. The basic assignment operator is `=`. There are also compound assignment operators that combine an operation with assignment, such as `+=`, `-=`, etc.\n",
    "\n",
    "**Assignment Operator (`=`)**: Assigns the value on the right to the variable on the left."
   ]
  },
  {
   "cell_type": "code",
   "execution_count": null,
   "id": "213cc51f-ae8b-455d-8b2e-e1047680251b",
   "metadata": {
    "jp-MarkdownHeadingCollapsed": true
   },
   "outputs": [],
   "source": [
    "x = 5  # x is assigned the value 5"
   ]
  },
  {
   "cell_type": "markdown",
   "id": "b7629c78-50ce-4433-a0ab-0da310f19d19",
   "metadata": {
    "jp-MarkdownHeadingCollapsed": true
   },
   "source": [
    "**Addition Assignment (`+=`)**: Adds the value on the right to the variable and assigns the result to the variable."
   ]
  },
  {
   "cell_type": "code",
   "execution_count": null,
   "id": "eb2f39f9-ad0d-41e3-a464-9b66d6a4414f",
   "metadata": {
    "jp-MarkdownHeadingCollapsed": true
   },
   "outputs": [],
   "source": [
    "x = 5\n",
    "x += 3  # x is now 8 (5 + 3)"
   ]
  },
  {
   "cell_type": "markdown",
   "id": "a9d9bcca-4fbb-4dd3-b4d8-c30251b9c9d1",
   "metadata": {
    "jp-MarkdownHeadingCollapsed": true
   },
   "source": [
    "**Subtraction Assignment (`-=`)**: Subtracts the value on the right from the variable and assigns the result to the variable."
   ]
  },
  {
   "cell_type": "code",
   "execution_count": null,
   "id": "de4f6c2a-470c-4806-bddd-4d9dcbb0206d",
   "metadata": {
    "jp-MarkdownHeadingCollapsed": true
   },
   "outputs": [],
   "source": [
    "x = 10\n",
    "x -= 4  # x is now 6 (10 - 4)"
   ]
  },
  {
   "cell_type": "markdown",
   "id": "33c23f41-4ac0-4277-b7a8-d76bd9114115",
   "metadata": {
    "jp-MarkdownHeadingCollapsed": true
   },
   "source": [
    "**Multiplication Assignment (`*=`)**: Multiplies the variable by the value on the right and assigns the result to the variable."
   ]
  },
  {
   "cell_type": "code",
   "execution_count": null,
   "id": "2c9f79fc-7c32-44c2-8405-a866938cc667",
   "metadata": {
    "jp-MarkdownHeadingCollapsed": true
   },
   "outputs": [],
   "source": [
    "x = 3\n",
    "x *= 2  # x is now 6 (3 * 2)"
   ]
  },
  {
   "cell_type": "markdown",
   "id": "5933bbfa-7587-459d-803e-a3b726e4ab97",
   "metadata": {
    "jp-MarkdownHeadingCollapsed": true
   },
   "source": [
    "**Division Assignment (`/=`)**: Divides the variable by the value on the right and assigns the result to the variable."
   ]
  },
  {
   "cell_type": "code",
   "execution_count": null,
   "id": "4050d406-f752-433f-abfa-5e3693909d94",
   "metadata": {
    "jp-MarkdownHeadingCollapsed": true
   },
   "outputs": [],
   "source": [
    "x = 12\n",
    "x /= 4  # x is now 3.0 (12 / 4)"
   ]
  },
  {
   "cell_type": "markdown",
   "id": "d0557a34-6965-4eb7-bf09-652454937305",
   "metadata": {
    "jp-MarkdownHeadingCollapsed": true
   },
   "source": [
    "**Modulus Assignment (`%=`)**: Performs modulus division on the variable and assigns the remainder to the variable."
   ]
  },
  {
   "cell_type": "code",
   "execution_count": null,
   "id": "3cb3af4c-81bc-4838-8a0e-e537303b7e49",
   "metadata": {
    "jp-MarkdownHeadingCollapsed": true
   },
   "outputs": [],
   "source": [
    "x = 15\n",
    "x %= 7  # x is now 1 (15 % 7)"
   ]
  },
  {
   "cell_type": "markdown",
   "id": "7da9db42-47d9-4530-be11-e15f6a0d9b60",
   "metadata": {
    "jp-MarkdownHeadingCollapsed": true
   },
   "source": [
    "**Exponentiation Assignment (`**=`)**: Raises the variable to the power of the value on the right and assigns the result to the variable."
   ]
  },
  {
   "cell_type": "code",
   "execution_count": null,
   "id": "f7e617c6-47f3-469f-9477-1b318d709b55",
   "metadata": {
    "jp-MarkdownHeadingCollapsed": true
   },
   "outputs": [],
   "source": [
    "x = 2\n",
    "x **= 3  # x is now 8 (2^3)"
   ]
  },
  {
   "cell_type": "markdown",
   "id": "b966e2c6-c86b-405a-8813-7d5aef441c8a",
   "metadata": {
    "jp-MarkdownHeadingCollapsed": true
   },
   "source": [
    "**Floor Division Assignment (`//=`)**: Performs floor division on the variable and assigns the result to the variable."
   ]
  },
  {
   "cell_type": "code",
   "execution_count": null,
   "id": "23029ddb-86fb-44a1-8b4a-229e9fd2ecc1",
   "metadata": {
    "jp-MarkdownHeadingCollapsed": true
   },
   "outputs": [],
   "source": [
    "x = 11\n",
    "x //= 3  # x is now 3 (11 // 3)"
   ]
  },
  {
   "cell_type": "markdown",
   "id": "0649085e-c230-4d91-a40a-bc9b7e3ae69b",
   "metadata": {
    "jp-MarkdownHeadingCollapsed": true
   },
   "source": [
    "These assignment operators provide a convenient way to modify the value of a variable while performing an operation in a single step."
   ]
  }
 ],
 "metadata": {
  "kernelspec": {
   "display_name": "Python 3 (ipykernel)",
   "language": "python",
   "name": "python3"
  },
  "language_info": {
   "codemirror_mode": {
    "name": "ipython",
    "version": 3
   },
   "file_extension": ".py",
   "mimetype": "text/x-python",
   "name": "python",
   "nbconvert_exporter": "python",
   "pygments_lexer": "ipython3",
   "version": "3.8.7"
  }
 },
 "nbformat": 4,
 "nbformat_minor": 5
}
