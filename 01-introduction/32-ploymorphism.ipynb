{
 "cells": [
  {
   "cell_type": "markdown",
   "id": "09127973-55cd-4893-9f79-17e3f0f63e12",
   "metadata": {},
   "source": [
    "# Polymorphism\n",
    "\n",
    "Polymorphism is an essential concept in object-oriented programming, allowing objects of different classes to be treated as if they were objects of a common base class. In Python, polymorphism is achieved through the use of inheritance and method overriding.\n",
    "\n",
    "## Inheritance and Base Class\n",
    "\n",
    "Polymorphism begins with inheritance, where you create a base class and derive subclasses from it. In Python, you can inherit from a base class like this:"
   ]
  },
  {
   "cell_type": "code",
   "execution_count": null,
   "id": "95b9a1e2-83ec-4866-a273-b724bf0f032c",
   "metadata": {},
   "outputs": [],
   "source": [
    "class Animal:\n",
    "    def speak(self):\n",
    "        pass\n",
    "\n",
    "class Dog(Animal):\n",
    "    def speak(self):\n",
    "        return \"Woof!\"\n",
    "\n",
    "class Cat(Animal):\n",
    "    def speak(self):\n",
    "        return \"Meow!\""
   ]
  },
  {
   "cell_type": "markdown",
   "id": "5f8f9f03-11a4-438d-b444-69ab889e58eb",
   "metadata": {},
   "source": [
    "In this example, `Animal` is the base class, and `Dog` and `Cat` are subclasses. They all have a method called `speak()`, which is overridden in the subclasses.\n",
    "\n",
    "## Polymorphic Behavior\n",
    "\n",
    "With our classes set up, we can now achieve polymorphism by treating objects from different classes uniformly. Consider the following code:"
   ]
  },
  {
   "cell_type": "code",
   "execution_count": null,
   "id": "a85c6d8d-1ebb-45bd-b8d9-f3fa08c7c097",
   "metadata": {},
   "outputs": [],
   "source": [
    "def animal_sound(animal):\n",
    "    print(animal.speak())\n",
    "\n",
    "dog = Dog()\n",
    "cat = Cat()\n",
    "\n",
    "animal_sound(dog)  # Output: \"Woof!\"\n",
    "animal_sound(cat)  # Output: \"Meow!\""
   ]
  },
  {
   "cell_type": "markdown",
   "id": "291620c6-b01f-41ef-af63-5d4388ed436e",
   "metadata": {},
   "source": [
    "Here, the `animal_sound` function takes an `animal` object as an argument. This function doesn't need to know if the object passed is a `Dog` or a `Cat`. It simply calls the `speak()` method on the object, and the overridden method in the respective subclass is executed.\n",
    "\n",
    "## The Power of Polymorphism\n",
    "\n",
    "Polymorphism makes your code more flexible and extensible. You can add new subclasses without modifying existing code. For instance, let's introduce a `Duck` class:"
   ]
  },
  {
   "cell_type": "code",
   "execution_count": null,
   "id": "2cd57894-5ebf-4659-80ef-f0750b622518",
   "metadata": {},
   "outputs": [],
   "source": [
    "class Duck(Animal):\n",
    "    def speak(self):\n",
    "        return \"Quack!\""
   ]
  },
  {
   "cell_type": "markdown",
   "id": "ceddaba1-4d6f-4361-aa15-5a9303198201",
   "metadata": {},
   "source": [
    "You can now use polymorphism with the `Duck` class without changing the `animal_sound` function:"
   ]
  },
  {
   "cell_type": "code",
   "execution_count": null,
   "id": "a8c27e82-e026-4e32-a94d-26f98bbcb96f",
   "metadata": {},
   "outputs": [],
   "source": [
    "duck = Duck()\n",
    "animal_sound(duck)  # Output: \"Quack!\""
   ]
  },
  {
   "cell_type": "markdown",
   "id": "b59d3b11-86ae-4777-8676-e299f77baf6a",
   "metadata": {},
   "source": [
    "## Abstract Base Classes\n",
    "\n",
    "In Python, you can also use abstract base classes to define methods that must be overridden by subclasses. This enforces polymorphism. For example, you can create an abstract base class for animals:"
   ]
  },
  {
   "cell_type": "code",
   "execution_count": null,
   "id": "048523a6-0e6f-49f4-b80d-37759920311d",
   "metadata": {},
   "outputs": [],
   "source": [
    "from abc import ABC, abstractmethod\n",
    "\n",
    "class Animal(ABC):\n",
    "    @abstractmethod\n",
    "    def speak(self):\n",
    "        pass"
   ]
  },
  {
   "cell_type": "markdown",
   "id": "862f006e-7fcf-40ba-a81a-b360641c5b2a",
   "metadata": {},
   "source": [
    "Any class that inherits from `Animal` must implement the `speak` method, ensuring consistent polymorphic behavior.\n",
    "\n",
    "## Built-in Polymorphism\n",
    "\n",
    "Polymorphism is not limited to user-defined classes. Python's built-in types and functions also embrace polymorphism. For instance, the `len()` function can be used with different sequences:"
   ]
  },
  {
   "cell_type": "code",
   "execution_count": null,
   "id": "3c8d075f-bb92-4796-a520-99de8843657e",
   "metadata": {},
   "outputs": [],
   "source": [
    "print(len([1, 2, 3]))  # Output: 3\n",
    "print(len(\"Hello\"))    # Output: 5"
   ]
  },
  {
   "cell_type": "markdown",
   "id": "aef12843-af97-4233-ba6b-faf491b1962e",
   "metadata": {},
   "source": [
    "The same function `len()` works with lists and strings, demonstrating polymorphic behavior."
   ]
  }
 ],
 "metadata": {
  "kernelspec": {
   "display_name": "Python 3 (ipykernel)",
   "language": "python",
   "name": "python3"
  },
  "language_info": {
   "codemirror_mode": {
    "name": "ipython",
    "version": 3
   },
   "file_extension": ".py",
   "mimetype": "text/x-python",
   "name": "python",
   "nbconvert_exporter": "python",
   "pygments_lexer": "ipython3",
   "version": "3.8.7"
  }
 },
 "nbformat": 4,
 "nbformat_minor": 5
}
