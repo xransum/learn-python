{
 "cells": [
  {
   "cell_type": "markdown",
   "id": "94db9776-4c13-4973-8c40-09b8c96f5da0",
   "metadata": {},
   "source": [
    "# Dictionaries\n",
    "\n",
    "Dictionaries are a versatile and essential data structure in Python. They allow you to store and organize data using a key-value pair system. Each key maps to a specific value, making it easy to retrieve and manipulate data. In this guide, we will explore the fundamentals of dictionaries, including their creation, manipulation, and common operations.\n",
    "\n",
    "## Creating a Dictionary\n",
    "\n",
    "To create a dictionary in Python, you use curly braces `{}` and specify key-value pairs using colons `:` to separate keys and values. Each key-value pair is separated by a comma `,`. Here's an example:"
   ]
  },
  {
   "cell_type": "code",
   "execution_count": 1,
   "id": "cb24ed72-3b2c-4916-bcfb-f40e27fe4f33",
   "metadata": {},
   "outputs": [],
   "source": [
    "# Creating a dictionary\n",
    "person = {\n",
    "    \"name\": \"Alice\",\n",
    "    \"age\": 30,\n",
    "    \"city\": \"New York\"\n",
    "}"
   ]
  },
  {
   "cell_type": "markdown",
   "id": "6901fc63-844c-4c0c-b0e8-a1853e4e4492",
   "metadata": {},
   "source": [
    "In the above example, we've created a dictionary called `person` with three key-value pairs: \"name,\" \"age,\" and \"city.\"\n",
    "\n",
    "## Accessing Values\n",
    "\n",
    "You can access the values in a dictionary by referencing their keys inside square brackets `[]` or by using the `.get()` method. If a key does not exist in the dictionary, attempting to access it directly using square brackets will raise a `KeyError`. On the other hand, the `.get()` method allows you to specify a default value to return if the key is not found."
   ]
  },
  {
   "cell_type": "code",
   "execution_count": 2,
   "id": "0ebeb052-6598-430a-a9b3-c8fbccd0bc7a",
   "metadata": {},
   "outputs": [],
   "source": [
    "# Accessing values\n",
    "name = person[\"name\"]  # Accessing \"name\" directly\n",
    "age = person.get(\"age\")  # Accessing \"age\" using .get()\n",
    "city = person.get(\"city\", \"Unknown\")  # Accessing \"city\" with a default value"
   ]
  },
  {
   "cell_type": "markdown",
   "id": "b9bdd553-37a1-4bb9-a64a-978137ee9ec9",
   "metadata": {},
   "source": [
    "## Modifying and Adding Elements\n",
    "\n",
    "You can modify or add new key-value pairs to an existing dictionary by assigning a value to a key. If the key does not exist, it will be added to the dictionary."
   ]
  },
  {
   "cell_type": "code",
   "execution_count": 3,
   "id": "8efec80f-02e1-40f7-89b8-6ef947943d44",
   "metadata": {},
   "outputs": [],
   "source": [
    "# Modifying and adding elements\n",
    "person[\"age\"] = 31  # Modifying the value of \"age\"\n",
    "person[\"job\"] = \"Engineer\"  # Adding a new key-value pair"
   ]
  },
  {
   "cell_type": "markdown",
   "id": "9a028eb2-4374-467b-85d0-779fe73f3453",
   "metadata": {},
   "source": [
    "## Removing Elements\n",
    "\n",
    "To remove an element from a dictionary, you can use the `del` statement or the `.pop()` method. The `del` statement deletes a specific key-value pair, while the `.pop()` method removes a key and returns its value. If the key does not exist, both methods raise a `KeyError`."
   ]
  },
  {
   "cell_type": "code",
   "execution_count": 4,
   "id": "ee9c7d2a-e4c7-44a2-98e1-09fca1124167",
   "metadata": {},
   "outputs": [],
   "source": [
    "# Removing elements\n",
    "del person[\"city\"]  # Deleting the key-value pair \"city\"\n",
    "job = person.pop(\"job\")  # Removing \"job\" and storing its value in the variable \"job\""
   ]
  },
  {
   "cell_type": "markdown",
   "id": "a0c03aef-ecf6-4281-b59b-b5730330d960",
   "metadata": {},
   "source": [
    "## Dictionary Methods\n",
    "\n",
    "Python provides several useful methods for working with dictionaries. Here are some common methods:\n",
    "\n",
    "- `keys()`: Returns a list of all the keys in the dictionary.\n",
    "- `values()`: Returns a list of all the values in the dictionary.\n",
    "- `items()`: Returns a list of key-value pairs (tuples) in the dictionary."
   ]
  },
  {
   "cell_type": "code",
   "execution_count": 5,
   "id": "1135fb08-e400-4182-81af-d7cd30f49fbd",
   "metadata": {},
   "outputs": [],
   "source": [
    "# Dictionary methods\n",
    "keys = person.keys()  # Get a list of keys\n",
    "values = person.values()  # Get a list of values\n",
    "items = person.items()  # Get a list of key-value pairs"
   ]
  },
  {
   "cell_type": "markdown",
   "id": "52a22d19-7838-4277-8ae4-a86559a4ac78",
   "metadata": {},
   "source": [
    "## Dictionary Comprehensions\n",
    "\n",
    "Like lists and sets, dictionaries also support comprehensions, which allow you to create dictionaries in a concise way."
   ]
  },
  {
   "cell_type": "code",
   "execution_count": 6,
   "id": "6a776dc2-98a9-4b0f-9249-13922f717712",
   "metadata": {},
   "outputs": [],
   "source": [
    "# Dictionary comprehension\n",
    "squares = {x: x**2 for x in range(1, 6)}  # Creates a dictionary of squares"
   ]
  },
  {
   "cell_type": "markdown",
   "id": "6da3a031-3c89-4b5f-86da-d37377e87677",
   "metadata": {},
   "source": [
    "## Nested Dictionaries\n",
    "\n",
    "Dictionaries can contain other dictionaries as values, creating nested dictionaries. This is useful for representing more complex data structures."
   ]
  },
  {
   "cell_type": "code",
   "execution_count": 7,
   "id": "cf5846c2-8c0b-4972-8770-eb490704a52d",
   "metadata": {},
   "outputs": [],
   "source": [
    "# Nested dictionaries\n",
    "employee = {\n",
    "    \"name\": \"Bob\",\n",
    "    \"contact\": {\n",
    "        \"email\": \"bob@example.com\",\n",
    "        \"phone\": \"555-1234\"\n",
    "    }\n",
    "}"
   ]
  },
  {
   "cell_type": "markdown",
   "id": "92c138ed-8589-4091-82fd-5fedf62f69a5",
   "metadata": {},
   "source": [
    "Dictionaries are a powerful and flexible way to manage data in Python. With their key-value pairs, you can efficiently organize, access, and manipulate data. This guide covers the basics of working with dictionaries, from creating them to performing common operations. Understanding dictionaries is essential for various programming tasks and data manipulation."
   ]
  }
 ],
 "metadata": {
  "kernelspec": {
   "display_name": "Python 3 (ipykernel)",
   "language": "python",
   "name": "python3"
  },
  "language_info": {
   "codemirror_mode": {
    "name": "ipython",
    "version": 3
   },
   "file_extension": ".py",
   "mimetype": "text/x-python",
   "name": "python",
   "nbconvert_exporter": "python",
   "pygments_lexer": "ipython3",
   "version": "3.8.7"
  }
 },
 "nbformat": 4,
 "nbformat_minor": 5
}
