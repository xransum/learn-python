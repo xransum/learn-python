{
 "cells": [
  {
   "cell_type": "markdown",
   "id": "5b752163-c732-4e95-934a-236b6d022885",
   "metadata": {},
   "source": [
    "# Strings\n",
    "\n",
    "Strings are an essential data type in Python. They are used to represent text or characters and are enclosed in single (`'`) or double (`\"`) quotation marks. Let's explore how to work with strings step by step.\n",
    "\n",
    "## Creating Strings\n",
    "\n",
    "You can create a string by enclosing text in single or double quotation marks. Here are some examples:"
   ]
  },
  {
   "cell_type": "code",
   "execution_count": 1,
   "id": "ac26eac6-2e97-4904-9ed0-79ca4a7196e3",
   "metadata": {},
   "outputs": [
    {
     "name": "stdout",
     "output_type": "stream",
     "text": [
      "Hello, Python!\n",
      "Python is amazing!\n",
      "\n",
      "This is a multi-line\n",
      "string in Python.\n",
      "\n"
     ]
    }
   ],
   "source": [
    "# Single-quoted string\n",
    "single_quoted = 'Hello, Python!'\n",
    "\n",
    "# Double-quoted string\n",
    "double_quoted = \"Python is amazing!\"\n",
    "\n",
    "# Multi-line string\n",
    "multi_line = '''\n",
    "This is a multi-line\n",
    "string in Python.\n",
    "'''\n",
    "\n",
    "# Output\n",
    "print(single_quoted)\n",
    "print(double_quoted)\n",
    "print(multi_line)"
   ]
  },
  {
   "cell_type": "markdown",
   "id": "801e1991-b86f-4e3b-824a-5b3a54997671",
   "metadata": {},
   "source": [
    "## Accessing Characters\n",
    "\n",
    "You can access individual characters in a string using indexing. Python uses 0-based indexing, meaning the first character has an index of 0."
   ]
  },
  {
   "cell_type": "code",
   "execution_count": 2,
   "id": "05f34a85-d52f-4ad7-8285-cb94678fafb8",
   "metadata": {},
   "outputs": [
    {
     "name": "stdout",
     "output_type": "stream",
     "text": [
      "Python\n",
      "P\n",
      "y\n"
     ]
    }
   ],
   "source": [
    "text = \"Python\"\n",
    "first_char = text[0]  # Access the first character 'P'\n",
    "second_char = text[1]  # Access the second character 'y'\n",
    "\n",
    "# Output\n",
    "print(text)\n",
    "print(first_char)\n",
    "print(second_char)"
   ]
  },
  {
   "cell_type": "markdown",
   "id": "0bfdfe38-b682-468d-b4d7-9e119e74fec5",
   "metadata": {},
   "source": [
    "## String Slicing\n",
    "\n",
    "String slicing allows you to extract a portion of a string. You specify a start and end index, and Python gives you the characters in that range."
   ]
  },
  {
   "cell_type": "code",
   "execution_count": 3,
   "id": "26fd822c-4b3a-4d7b-8d7a-86909a49c534",
   "metadata": {},
   "outputs": [
    {
     "name": "stdout",
     "output_type": "stream",
     "text": [
      "Python is fun!\n",
      "is\n"
     ]
    }
   ],
   "source": [
    "text = \"Python is fun!\"\n",
    "substring = text[7:9]  # Get the slice 'is'\n",
    "\n",
    "# Output\n",
    "print(text)\n",
    "print(substring)"
   ]
  },
  {
   "cell_type": "markdown",
   "id": "31f36f32-ce70-448b-b298-92881c0a1c3b",
   "metadata": {},
   "source": [
    "## String Concatenation\n",
    "\n",
    "You can concatenate (join) strings together using the `+` operator."
   ]
  },
  {
   "cell_type": "code",
   "execution_count": 4,
   "id": "f826c131-c20f-4ed5-af04-853aa77ad970",
   "metadata": {},
   "outputs": [
    {
     "name": "stdout",
     "output_type": "stream",
     "text": [
      "John\n",
      "Doe\n",
      "John Doe\n"
     ]
    }
   ],
   "source": [
    "first_name = \"John\"\n",
    "last_name = \"Doe\"\n",
    "full_name = first_name + \" \" + last_name  # Concatenate the strings\n",
    "\n",
    "# Output\n",
    "print(first_name)\n",
    "print(last_name)\n",
    "print(full_name)"
   ]
  },
  {
   "cell_type": "markdown",
   "id": "69dcc746-fc31-4eae-a5ae-f6d3ba0c881d",
   "metadata": {},
   "source": [
    "## String Length\n",
    "\n",
    "You can find the length (the number of characters) in a string using the `len()` function."
   ]
  },
  {
   "cell_type": "code",
   "execution_count": 5,
   "id": "ec31a616-e8cd-473a-b4d3-536df7663128",
   "metadata": {},
   "outputs": [
    {
     "name": "stdout",
     "output_type": "stream",
     "text": [
      "Python Programming\n",
      "18\n"
     ]
    }
   ],
   "source": [
    "text = \"Python Programming\"\n",
    "length = len(text)  # Calculate the length of the string\n",
    "\n",
    "# Output\n",
    "print(text)\n",
    "print(length)"
   ]
  },
  {
   "cell_type": "markdown",
   "id": "d6fe0e1e-3b3d-4190-b812-9aed03997562",
   "metadata": {},
   "source": [
    "## String Methods\n",
    "\n",
    "Python provides various built-in methods to work with strings. Here are some examples:"
   ]
  },
  {
   "cell_type": "code",
   "execution_count": 6,
   "id": "4f7b4ef2-a06e-405e-a0f9-00e17e89168e",
   "metadata": {},
   "outputs": [
    {
     "name": "stdout",
     "output_type": "stream",
     "text": [
      "Python is easy and powerful\n",
      "PYTHON IS EASY AND POWERFUL\n",
      "10\n",
      "Python is easy and awesome\n"
     ]
    }
   ],
   "source": [
    "text = \"Python is easy and powerful\"\n",
    "\n",
    "# Convert to uppercase\n",
    "uppercase_text = text.upper()\n",
    "\n",
    "# Find a substring\n",
    "index = text.find(\"easy\")\n",
    "\n",
    "# Replace a substring\n",
    "new_text = text.replace(\"powerful\", \"awesome\")\n",
    "\n",
    "# Output\n",
    "print(text)\n",
    "print(uppercase_text)\n",
    "print(index)\n",
    "print(new_text)"
   ]
  },
  {
   "cell_type": "markdown",
   "id": "f26fa5d0-6433-45dd-9fb8-1817f767397b",
   "metadata": {},
   "source": [
    "You can format strings to include variables using f-strings (Python 3.6+)."
   ]
  },
  {
   "cell_type": "code",
   "execution_count": 7,
   "id": "106a262f-d2bb-4809-9d36-94ec6a831fe3",
   "metadata": {},
   "outputs": [
    {
     "name": "stdout",
     "output_type": "stream",
     "text": [
      "Alice\n",
      "30\n",
      "My name is Alice and I am 30 years old.\n"
     ]
    }
   ],
   "source": [
    "name = \"Alice\"\n",
    "age = 30\n",
    "formatted_string = f\"My name is {name} and I am {age} years old.\"\n",
    "\n",
    "# Output\n",
    "print(name)\n",
    "print(age)\n",
    "print(formatted_string)"
   ]
  }
 ],
 "metadata": {
  "kernelspec": {
   "display_name": "Python 3 (ipykernel)",
   "language": "python",
   "name": "python3"
  },
  "language_info": {
   "codemirror_mode": {
    "name": "ipython",
    "version": 3
   },
   "file_extension": ".py",
   "mimetype": "text/x-python",
   "name": "python",
   "nbconvert_exporter": "python",
   "pygments_lexer": "ipython3",
   "version": "3.8.7"
  }
 },
 "nbformat": 4,
 "nbformat_minor": 5
}
