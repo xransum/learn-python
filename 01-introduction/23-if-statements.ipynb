{
 "cells": [
  {
   "cell_type": "markdown",
   "id": "8245bae3-475f-4f36-be91-c56ce28a88bb",
   "metadata": {},
   "source": [
    "# If Statements\n",
    "\n",
    "Conditional statements are a fundamental part of programming, allowing you to make decisions in your code based on specific conditions. In Python, you can use `if`, `if-else`, and `if-elif-else` statements to control the flow of your program.\n",
    "\n",
    "## The `if` Statement\n",
    "\n",
    "The simplest conditional statement is the `if` statement. It allows you to execute a block of code if a certain condition is met. If the condition is `True`, the code block is executed. If the condition is `False`, the code block is skipped.\n",
    "\n",
    "**Syntax:**\n",
    "\n",
    "```python\n",
    "if condition:\n",
    "    # Code to execute if the condition is True\n",
    "```\n",
    "\n",
    "**Example:**\n",
    "\n",
    "In the below, the code inside the `if` block is executed because the `age` variable is greater than or equal to 18."
   ]
  },
  {
   "cell_type": "code",
   "execution_count": null,
   "id": "87edba3b-f443-4bd8-b615-9e54b0d18024",
   "metadata": {},
   "outputs": [],
   "source": [
    "age = 25\n",
    "\n",
    "if age >= 18:\n",
    "    print(\"You are an adult.\")"
   ]
  },
  {
   "cell_type": "markdown",
   "id": "12f35159-86f1-40f6-8930-e7de8c480e1e",
   "metadata": {},
   "source": [
    "## The `if-else` Statement\n",
    "\n",
    "The `if-else` statement allows you to specify two code blocks: one to execute if the condition is `True`, and another to execute if the condition is `False`.\n",
    "\n",
    "**Syntax:**\n",
    "\n",
    "```python\n",
    "if condition:\n",
    "    # Code to execute if the condition is True\n",
    "else:\n",
    "    # Code to execute if the condition is False\n",
    "```\n",
    "\n",
    "**Example:**\n",
    "\n",
    "In the below, the first `print` statement will be executed because the temperature is not greater than or equal to 30."
   ]
  },
  {
   "cell_type": "code",
   "execution_count": null,
   "id": "c6aa4ad6-f059-4451-a6a5-b06a9dd20e5e",
   "metadata": {},
   "outputs": [],
   "source": [
    "temperature = 28\n",
    "\n",
    "if temperature >= 30:\n",
    "    print(\"It's a hot day.\")\n",
    "else:\n",
    "    print(\"It's not too hot.\")"
   ]
  },
  {
   "cell_type": "markdown",
   "id": "53f847c9-1dfd-481d-97a3-cefd7c797980",
   "metadata": {},
   "source": [
    "## The `if-elif-else` Statement\n",
    "\n",
    "When you have multiple conditions to check, you can use the `if-elif-else` statement. It allows you to test several conditions one by one and execute the corresponding code block of the first `True` condition. If none of the conditions are `True`, the code in the `else` block is executed.\n",
    "\n",
    "**Syntax:**\n",
    "\n",
    "```python\n",
    "if condition1:\n",
    "    # Code to execute if condition1 is True\n",
    "elif condition2:\n",
    "    # Code to execute if condition2 is True\n",
    "else:\n",
    "    # Code to execute if no conditions are True\n",
    "```\n",
    "\n",
    "**Example:**\n",
    "\n",
    "In the below, the code block under `elif grade >= 70` is executed because it's the first condition that is `True`.\n"
   ]
  },
  {
   "cell_type": "code",
   "execution_count": null,
   "id": "abb995c3-6d6c-48c2-9c3a-bc5064470cb1",
   "metadata": {},
   "outputs": [],
   "source": [
    "grade = 75\n",
    "\n",
    "if grade >= 90:\n",
    "    print(\"A\")\n",
    "elif grade >= 80:\n",
    "    print(\"B\")\n",
    "elif grade >= 70:\n",
    "    print(\"C\")\n",
    "else:\n",
    "    print(\"F\")"
   ]
  },
  {
   "cell_type": "markdown",
   "id": "42777512-ae41-4fa5-acec-092813f78026",
   "metadata": {},
   "source": [
    "## Nested Conditional Statements\n",
    "\n",
    "You can also nest conditional statements within one another for more complex decision-making.\n",
    "\n",
    "**Example:**\n",
    "\n",
    "In this example, the code executes based on the values of `x` and `y`."
   ]
  },
  {
   "cell_type": "code",
   "execution_count": null,
   "id": "7569c750-2f22-4c65-b468-d3d6f64054d2",
   "metadata": {},
   "outputs": [],
   "source": [
    "x = 10\n",
    "y = 5\n",
    "\n",
    "if x > 5:\n",
    "    if y > 2:\n",
    "        print(\"Both conditions are True.\")\n",
    "    else:\n",
    "        print(\"The first condition is True, but the second is not.\")\n",
    "else:\n",
    "    print(\"The first condition is False.\")"
   ]
  },
  {
   "cell_type": "markdown",
   "id": "c35e6434-1e07-4c1c-99b2-f82fcfbf0469",
   "metadata": {},
   "source": [
    "Conditional statements are essential for controlling the logic of your Python programs. They allow you to create dynamic and responsive applications based on various conditions and inputs."
   ]
  }
 ],
 "metadata": {
  "kernelspec": {
   "display_name": "Python 3 (ipykernel)",
   "language": "python",
   "name": "python3"
  },
  "language_info": {
   "codemirror_mode": {
    "name": "ipython",
    "version": 3
   },
   "file_extension": ".py",
   "mimetype": "text/x-python",
   "name": "python",
   "nbconvert_exporter": "python",
   "pygments_lexer": "ipython3",
   "version": "3.8.7"
  }
 },
 "nbformat": 4,
 "nbformat_minor": 5
}
