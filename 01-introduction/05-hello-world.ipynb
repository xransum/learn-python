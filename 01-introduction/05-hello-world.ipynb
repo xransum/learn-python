{
 "cells": [
  {
   "cell_type": "markdown",
   "id": "c136860c-dd24-4faa-ae8a-380e5686629e",
   "metadata": {},
   "source": [
    "# Hello World\n",
    "\n",
    "## Overview\n",
    "\n",
    "At the start of every programmers journey, they are by law of the round table of programmers, required to write a program that prints \"Hello World\" to the screen. This is the first step in becoming a programmer.\n",
    "\n",
    "As such, **\"Hello World\"** has become the most famously written program in the world. It is the first program that most programmers write, and it is the first program that most programmers teach.\n",
    "\n",
    "It also serves as a great way to introduce the basic concepts of a given programming language."
   ]
  },
  {
   "cell_type": "markdown",
   "id": "d08f683c-0f9b-4f58-9bf1-bbaaac3717c6",
   "metadata": {},
   "source": [
    "## Implementation\n"
   ]
  },
  {
   "cell_type": "code",
   "execution_count": 2,
   "id": "eac46d4c-edd4-4917-b741-27f1100c7813",
   "metadata": {},
   "outputs": [
    {
     "name": "stdout",
     "output_type": "stream",
     "text": [
      "Hello World!\n"
     ]
    }
   ],
   "source": [
    "# hello_world.py\n",
    "# This program will output \"Hello World\" to the screen\n",
    "\n",
    "print(\"Hello World!\")"
   ]
  },
  {
   "cell_type": "markdown",
   "id": "7cd93019-2514-47e8-adf7-5eceea89b1e2",
   "metadata": {},
   "source": [
    "## Explanation\n",
    "\n",
    "To preface, this will only be explained here once. The first and second line of the program is a comment. The first line will usually be the filename of the program, and the second line (can span over more than just one line) will be a brief description of what the program does.\n",
    "\n",
    "After the third line, the magic happens.\n",
    "\n",
    "We use the `print()` function to print \"Hello World\" to the screen. The `print()` function is a built-in function that is used to print to the screen. It can be used to print almost anything to the screen, and it is a very useful function to know.\n",
    "\n",
    "The `print()` function is also highly used in debugging, as it can be used to print the value of a variable to the screen, and it can be used to print the value of a variable to the screen at a specific point in the program.\n",
    "\n",
    "> **Note:** When in doubt, print it out! **Literally.**"
   ]
  }
 ],
 "metadata": {
  "kernelspec": {
   "display_name": "Python 3 (ipykernel)",
   "language": "python",
   "name": "python3"
  },
  "language_info": {
   "codemirror_mode": {
    "name": "ipython",
    "version": 3
   },
   "file_extension": ".py",
   "mimetype": "text/x-python",
   "name": "python",
   "nbconvert_exporter": "python",
   "pygments_lexer": "ipython3",
   "version": "3.8.7"
  }
 },
 "nbformat": 4,
 "nbformat_minor": 5
}
