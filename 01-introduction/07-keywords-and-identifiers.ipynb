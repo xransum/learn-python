{
 "cells": [
  {
   "cell_type": "markdown",
   "id": "7fc57de9-6a3d-41ff-9ec9-8fd8ef83009e",
   "metadata": {},
   "source": [
    "# Keywords and Identifiers\n",
    "\n",
    "In Python, keywords are reserved words that have special meanings and purposes within the language. Identifiers, on the other hand, are names given to variables, functions, classes, modules, or other objects in your code. Understanding keywords and creating meaningful identifiers is essential for writing Python code effectively.\n",
    "\n",
    "## Python Keywords\n",
    "\n",
    "Python has a set of predefined keywords that cannot be used as identifiers. Attempting to use a keyword as an identifier will result in a syntax error. Here are some of Python's keywords:\n",
    "\n",
    "- `and`\n",
    "- `as`\n",
    "- `if`\n",
    "- `while`\n",
    "- `for`\n",
    "- `class`\n",
    "- `def`\n",
    "- `import`\n",
    "- `from`\n",
    "- `return`\n",
    "- `not`\n",
    "- `in`\n",
    "\n",
    "You can view the full list of keywords using the following code:"
   ]
  },
  {
   "cell_type": "code",
   "execution_count": 10,
   "id": "0bb4d6c7-d27e-48cf-8c48-a6b05f6da08c",
   "metadata": {},
   "outputs": [
    {
     "name": "stdout",
     "output_type": "stream",
     "text": [
      "['False', 'None', 'True', 'and', 'as', 'assert', 'async', 'await', 'break', 'class', 'continue', 'def', 'del', 'elif', 'else', 'except', 'finally', 'for', 'from', 'global', 'if', 'import', 'in', 'is', 'lambda', 'nonlocal', 'not', 'or', 'pass', 'raise', 'return', 'try', 'while', 'with', 'yield']\n"
     ]
    }
   ],
   "source": [
    "import keyword\n",
    "\n",
    "print(keyword.kwlist)"
   ]
  },
  {
   "cell_type": "markdown",
   "id": "81ee1236-f277-43c1-bd91-7f8e8cd438f9",
   "metadata": {},
   "source": [
    "## Creating Identifiers\n",
    "\n",
    "Identifiers are names you give to variables, functions, classes, or other objects in Python. Here are the rules for creating valid identifiers:\n",
    "\n",
    "- Identifiers can consist of letters (both uppercase and lowercase), digits, and underscores (_).\n",
    "- Identifiers must start with a letter (a-z, A-Z) or an underscore (_).\n",
    "- Identifiers are case-sensitive, meaning `myVar` and `myvar` are considered different identifiers.\n",
    "- You cannot use Python keywords as identifiers.\n",
    "\n",
    "## Examples of Identifiers\n",
    "\n",
    "A couple examples for identifiers that are good practice."
   ]
  },
  {
   "cell_type": "code",
   "execution_count": 4,
   "id": "9a1d6a03-d500-48cb-9429-5af39c6837e3",
   "metadata": {},
   "outputs": [],
   "source": [
    "variable_name = 42"
   ]
  },
  {
   "cell_type": "code",
   "execution_count": 5,
   "id": "b943785b-eedb-4daa-be45-a41adbb5899f",
   "metadata": {},
   "outputs": [],
   "source": [
    "my_var = \"Hello\""
   ]
  },
  {
   "cell_type": "code",
   "execution_count": 6,
   "id": "1f8e4780-66ea-42eb-a160-60076dcac3a4",
   "metadata": {},
   "outputs": [],
   "source": [
    "class_name = \"MyClass\""
   ]
  },
  {
   "cell_type": "code",
   "execution_count": 7,
   "id": "e158d6d6-2d45-47bf-b917-135b40b20957",
   "metadata": {},
   "outputs": [],
   "source": [
    "function_2 = lambda x: x * 2"
   ]
  },
  {
   "cell_type": "markdown",
   "id": "8bb39688-1cb4-46c8-bbc8-540439a25b79",
   "metadata": {},
   "source": [
    "## Invalid Identifiers\n",
    "\n",
    "When it comes to identifiers it's best practices to avoid using numbers in your identifiers, however it's an even bigger no-no to have them starting with a number. You can run the following code to see the error that is throw when you set an identifier starting with a number."
   ]
  },
  {
   "cell_type": "code",
   "execution_count": 8,
   "id": "cfb1a5f1-a0d6-41c6-b39b-8978cb37aa4d",
   "metadata": {},
   "outputs": [
    {
     "ename": "SyntaxError",
     "evalue": "invalid syntax (3269540539.py, line 2)",
     "output_type": "error",
     "traceback": [
      "\u001b[1;36m  Cell \u001b[1;32mIn[8], line 2\u001b[1;36m\u001b[0m\n\u001b[1;33m    2nd_variable = 10\u001b[0m\n\u001b[1;37m     ^\u001b[0m\n\u001b[1;31mSyntaxError\u001b[0m\u001b[1;31m:\u001b[0m invalid syntax\n"
     ]
    }
   ],
   "source": [
    "# Invalid identifiers (due to starting with a digit)\n",
    "2nd_variable = 10"
   ]
  },
  {
   "cell_type": "markdown",
   "id": "e2867d79-93e2-4dbf-935d-e1e7e6f1f51d",
   "metadata": {},
   "source": [
    "In addition, akin to assigning identifiers with numbers, assigning them using one of the above keywords will also throw the same error."
   ]
  },
  {
   "cell_type": "code",
   "execution_count": 9,
   "id": "724cf04f-c443-4ed8-a4b6-074cbbac8be9",
   "metadata": {},
   "outputs": [
    {
     "ename": "SyntaxError",
     "evalue": "invalid syntax (1339840900.py, line 2)",
     "output_type": "error",
     "traceback": [
      "\u001b[1;36m  Cell \u001b[1;32mIn[9], line 2\u001b[1;36m\u001b[0m\n\u001b[1;33m    while = True\u001b[0m\n\u001b[1;37m          ^\u001b[0m\n\u001b[1;31mSyntaxError\u001b[0m\u001b[1;31m:\u001b[0m invalid syntax\n"
     ]
    }
   ],
   "source": [
    "# Invalid identifiers (using a Python keyword)\n",
    "while = True"
   ]
  },
  {
   "cell_type": "markdown",
   "id": "4b7606bb-dd14-4736-be55-8eb5e1666bde",
   "metadata": {},
   "source": [
    "## Best Practices for Identifiers\n",
    "\n",
    "To make your code more readable and maintainable, follow these naming conventions and best practices for identifiers:\n",
    "\n",
    "- Use descriptive names that reflect the purpose of the variable or function.\n",
    "- Use lowercase letters for variable and function names (e.g., `my_variable`, `calculate_result`).\n",
    "- Use uppercase letters for constants (e.g., `PI`, `MAX_VALUE`).\n",
    "- Use underscores to separate words in multi-word identifiers (e.g., `user_name`, `calculate_total_amount`).\n",
    "\n",
    "By understanding Python keywords and following identifier conventions, you'll write more organized and error-free code."
   ]
  }
 ],
 "metadata": {
  "kernelspec": {
   "display_name": "Python 3 (ipykernel)",
   "language": "python",
   "name": "python3"
  },
  "language_info": {
   "codemirror_mode": {
    "name": "ipython",
    "version": 3
   },
   "file_extension": ".py",
   "mimetype": "text/x-python",
   "name": "python",
   "nbconvert_exporter": "python",
   "pygments_lexer": "ipython3",
   "version": "3.8.7"
  }
 },
 "nbformat": 4,
 "nbformat_minor": 5
}
