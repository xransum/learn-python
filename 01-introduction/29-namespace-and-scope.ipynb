{
 "cells": [
  {
   "cell_type": "markdown",
   "id": "4f3646fc-e3af-4ef6-83fa-90a9f9597e12",
   "metadata": {},
   "source": [
    "# Namespace and Scope\n",
    "\n",
    "Python's concept of namespace and scope is crucial for understanding variable lifetime, variable accessibility, and how different parts of your code interact. In this section, we will explore the concepts of namespace and scope in Python.\n",
    "\n",
    "## Namespace\n",
    "\n",
    "A namespace is a container that holds a set of identifiers (variable names) and their corresponding objects (values). In Python, namespaces help in avoiding naming conflicts and organizing variables, functions, classes, and modules.\n",
    "\n",
    "There are three main types of namespaces:\n",
    "\n",
    "1. **Local Namespace**: This namespace contains local variables, which are defined within a function or method. The local namespace is temporary and exists only during the execution of the function.\n",
    "\n",
    "2. **Enclosing Namespace**: This namespace is used for nested functions, where inner functions can access variables from outer functions. Each function has its own local namespace.\n",
    "\n",
    "3. **Global Namespace**: The global namespace contains variables and functions defined at the top level of a module or script. It exists throughout the entire runtime of the program and is shared across all functions and modules.\n",
    "\n",
    "## Scope\n",
    "\n",
    "Scope refers to the region or context where an identifier (variable or function) is accessible. Python has the following scope levels:\n",
    "\n",
    "1. **Local Scope**: Variables defined within a function are in the local scope and can only be accessed within that function.\n",
    "\n",
    "2. **Enclosing Scope**: When a function is nested inside another function, it can access variables from the enclosing scope. This allows inner functions to \"capture\" variables from their containing functions.\n",
    "\n",
    "3. **Global Scope**: Variables defined at the top level of a module are in the global scope and are accessible to all functions and code within that module.\n",
    "\n",
    "4. **Built-in Scope**: Python provides a built-in scope that contains commonly used functions and objects such as `print()` and `len()`. These can be accessed from any part of the code without explicit declaration.\n",
    "\n",
    "## Local Namespace and Scope\n",
    "\n",
    "In this example, `x` is in the local scope of `outer_function`, and `y` is in the local scope of `inner_function`. The `inner_function` can access `x` from the enclosing scope, demonstrating the concept of enclosing namespaces and scope."
   ]
  },
  {
   "cell_type": "code",
   "execution_count": 2,
   "id": "d76c2394-940b-47e4-a1bb-aae389af8852",
   "metadata": {},
   "outputs": [
    {
     "name": "stdout",
     "output_type": "stream",
     "text": [
      "inner_function:  30\n",
      "outer_function:  10\n"
     ]
    }
   ],
   "source": [
    "def outer_function():\n",
    "    x = 10  # Variable in the local scope of outer_function\n",
    "\n",
    "    def inner_function():\n",
    "        y = 20  # Variable in the local scope of inner_function\n",
    "        print(\"inner_function: \", x + y)  # Accesses x from the enclosing scope\n",
    "\n",
    "    inner_function()\n",
    "    print(\"outer_function: \", x)\n",
    "\n",
    "outer_function()"
   ]
  },
  {
   "cell_type": "markdown",
   "id": "8f9ff740-972d-4736-8e4e-f4278b0e81af",
   "metadata": {},
   "source": [
    "## Global Namespace and Scope\n",
    "\n",
    "In this example, `a` is in the global scope, and both the `global_example` function and the code outside it can access `a`."
   ]
  },
  {
   "cell_type": "code",
   "execution_count": 3,
   "id": "2bbdc386-347b-4afb-a5cb-925ffdd53ab5",
   "metadata": {},
   "outputs": [
    {
     "name": "stdout",
     "output_type": "stream",
     "text": [
      "global_example 5\n",
      "5\n"
     ]
    }
   ],
   "source": [
    "a = 5  # Variable in the global scope\n",
    "\n",
    "def global_example():\n",
    "    print(\"global_example\", a)  # Accesses the global variable a\n",
    "\n",
    "global_example()\n",
    "print(a)"
   ]
  },
  {
   "cell_type": "markdown",
   "id": "e52ac937-1610-42cd-ae40-ad9fb6a419bd",
   "metadata": {},
   "source": [
    "## Best Practices\n",
    "\n",
    "- Avoid using the same variable names in different namespaces to prevent naming conflicts.\n",
    "- Use meaningful variable and function names to improve code readability.\n",
    "\n",
    "Understanding namespaces and scope is fundamental for writing clean and organized Python code. It allows you to manage variables effectively and create modular and maintainable programs."
   ]
  }
 ],
 "metadata": {
  "kernelspec": {
   "display_name": "Python 3 (ipykernel)",
   "language": "python",
   "name": "python3"
  },
  "language_info": {
   "codemirror_mode": {
    "name": "ipython",
    "version": 3
   },
   "file_extension": ".py",
   "mimetype": "text/x-python",
   "name": "python",
   "nbconvert_exporter": "python",
   "pygments_lexer": "ipython3",
   "version": "3.8.7"
  }
 },
 "nbformat": 4,
 "nbformat_minor": 5
}
