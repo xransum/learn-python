{
 "cells": [
  {
   "cell_type": "markdown",
   "id": "0fe989ac-7c8f-4b88-b735-289ea3db0f55",
   "metadata": {},
   "source": [
    "# Booleans\n",
    "\n",
    "In Python, a Boolean is a data type that can have one of two values: `True` or `False`. Booleans are often used to make decisions in programs and represent the truth or validity of conditions.\n",
    "\n",
    "## True and False\n",
    "\n",
    "In Python, `True` and `False` are reserved keywords that represent Boolean values. They are used to evaluate conditions and make logical decisions."
   ]
  },
  {
   "cell_type": "code",
   "execution_count": 1,
   "id": "45aaa1b5-6bd0-43c9-96da-4b3425141c66",
   "metadata": {},
   "outputs": [
    {
     "name": "stdout",
     "output_type": "stream",
     "text": [
      "True\n",
      "False\n"
     ]
    }
   ],
   "source": [
    "x = True\n",
    "y = False\n",
    "\n",
    "print(x)  # True\n",
    "print(y)  # False"
   ]
  },
  {
   "cell_type": "markdown",
   "id": "0ffb8d7b-31a2-4b0a-9e68-faa9d883a1c1",
   "metadata": {},
   "source": [
    "## Comparison Operators\n",
    "\n",
    "Comparison operators are used to compare two values and return a Boolean result.\n",
    "\n",
    "- `==` (equal): Returns `True` if both values are equal.\n",
    "- `!=` (not equal): Returns `True` if the values are not equal.\n",
    "- `>` (greater than): Returns `True` if the left value is greater than the right value.\n",
    "- `<` (less than): Returns `True` if the left value is less than the right value.\n",
    "- `>=` (greater than or equal): Returns `True` if the left value is greater than or equal to the right value.\n",
    "- `<=` (less than or equal): Returns `True` if the left value is less than or equal to the right value."
   ]
  },
  {
   "cell_type": "code",
   "execution_count": 2,
   "id": "c6b8ea4d-a531-4b91-a49e-9d94a4f24f69",
   "metadata": {},
   "outputs": [
    {
     "name": "stdout",
     "output_type": "stream",
     "text": [
      "False\n",
      "True\n",
      "True\n",
      "False\n",
      "True\n",
      "False\n"
     ]
    }
   ],
   "source": [
    "a = 10\n",
    "b = 5\n",
    "\n",
    "print(a == b)  # False (not equal)\n",
    "print(a != b)  # True (not equal)\n",
    "print(a > b)   # True (greater than)\n",
    "print(a < b)   # False (less than)\n",
    "print(a >= b)  # True (greater than or equal)\n",
    "print(a <= b)  # False (less than or equal)"
   ]
  },
  {
   "cell_type": "markdown",
   "id": "bed71663-a3e0-40a0-9f46-eb09f1c64e34",
   "metadata": {},
   "source": [
    "## Logical Operators\n",
    "\n",
    "Logical operators are used to combine Boolean values or expressions and return a Boolean result.\n",
    "\n",
    "- `and`: Returns `True` if both conditions are `True`.\n",
    "- `or`: Returns `True` if at least one of the conditions is `True`.\n",
    "- `not`: Returns the opposite Boolean value (negation)."
   ]
  },
  {
   "cell_type": "code",
   "execution_count": 3,
   "id": "eaf0503b-0def-487c-9203-5ba5ea9484ab",
   "metadata": {},
   "outputs": [
    {
     "name": "stdout",
     "output_type": "stream",
     "text": [
      "False\n",
      "True\n",
      "False\n"
     ]
    }
   ],
   "source": [
    "x = True\n",
    "y = False\n",
    "\n",
    "print(x and y)  # False (True and False)\n",
    "print(x or y)   # True (True or False)\n",
    "print(not x)    # False (not True)"
   ]
  },
  {
   "cell_type": "markdown",
   "id": "41306067-0801-42e7-b0eb-f500af9b9ea5",
   "metadata": {},
   "source": [
    "## Boolean Values in Conditions\n",
    "\n",
    "Booleans are often used in conditional statements to make decisions in programs. For example, in an `if` statement, the code block is executed only if the condition is `True`."
   ]
  },
  {
   "cell_type": "code",
   "execution_count": 4,
   "id": "7ecdcf60-46e6-4afd-a7f4-37e251bb695f",
   "metadata": {},
   "outputs": [
    {
     "name": "stdout",
     "output_type": "stream",
     "text": [
      "x is greater than 3\n"
     ]
    }
   ],
   "source": [
    "x = 5\n",
    "if x > 3:\n",
    "    print(\"x is greater than 3\")"
   ]
  },
  {
   "cell_type": "markdown",
   "id": "30974489-4b2d-431a-a34a-ab7438a48842",
   "metadata": {},
   "source": [
    "## Built-in Functions\n",
    "\n",
    "Python provides built-in functions to work with Booleans, such as `bool()`, which allows you to evaluate an expression or value as a Boolean."
   ]
  },
  {
   "cell_type": "code",
   "execution_count": 5,
   "id": "acce451e-e54f-464f-9148-daa8089236d5",
   "metadata": {},
   "outputs": [
    {
     "name": "stdout",
     "output_type": "stream",
     "text": [
      "False\n",
      "True\n",
      "True\n"
     ]
    }
   ],
   "source": [
    "print(bool(0))      # False (0 is considered False)\n",
    "print(bool(42))     # True (non-zero values are considered True)\n",
    "print(bool(\"Hello\")) # True (non-empty strings are considered True)"
   ]
  },
  {
   "cell_type": "markdown",
   "id": "db45748a-5096-468d-8f9a-34625c69c5d3",
   "metadata": {},
   "source": [
    "## Identity Operators\n",
    "\n",
    "Identity operators are used to compare the memory location of two objects.\n",
    "\n",
    "- `is`: Returns `True` if both variables are the same object.\n",
    "- `is not`: Returns `True` if both variables are not the same object."
   ]
  },
  {
   "cell_type": "code",
   "execution_count": 6,
   "id": "0cdddc27-94b4-4040-b211-d3a0ff77717a",
   "metadata": {},
   "outputs": [
    {
     "name": "stdout",
     "output_type": "stream",
     "text": [
      "True\n",
      "False\n"
     ]
    }
   ],
   "source": [
    "a = [1, 2, 3]\n",
    "b = a\n",
    "\n",
    "print(a is b)   # True (a and b reference the same list object)\n",
    "print(a is not b)  # False (a and b reference the same list object)"
   ]
  },
  {
   "cell_type": "markdown",
   "id": "4fb55b93-a70b-480e-b604-21c063c723c6",
   "metadata": {},
   "source": [
    "## Membership Operators\n",
    "\n",
    "Membership operators are used to test if a sequence is present in an object.\n",
    "\n",
    "- `in`: Returns `True` if a specified value is found in the sequence.\n",
    "- `not in`: Returns `True` if a specified value is not found in the sequence."
   ]
  },
  {
   "cell_type": "code",
   "execution_count": 7,
   "id": "f917919d-9ca7-4e74-a7bd-9c558a2e5d7e",
   "metadata": {},
   "outputs": [
    {
     "name": "stdout",
     "output_type": "stream",
     "text": [
      "True\n",
      "True\n"
     ]
    }
   ],
   "source": [
    "fruits = [\"apple\", \"banana\", \"cherry\"]\n",
    "print(\"banana\" in fruits)   # True (the sequence contains \"banana\")\n",
    "print(\"orange\" not in fruits)  # True (\"orange\" is not in the sequence)"
   ]
  }
 ],
 "metadata": {
  "kernelspec": {
   "display_name": "Python 3 (ipykernel)",
   "language": "python",
   "name": "python3"
  },
  "language_info": {
   "codemirror_mode": {
    "name": "ipython",
    "version": 3
   },
   "file_extension": ".py",
   "mimetype": "text/x-python",
   "name": "python",
   "nbconvert_exporter": "python",
   "pygments_lexer": "ipython3",
   "version": "3.8.7"
  }
 },
 "nbformat": 4,
 "nbformat_minor": 5
}
