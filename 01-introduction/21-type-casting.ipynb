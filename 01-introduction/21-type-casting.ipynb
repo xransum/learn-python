{
 "cells": [
  {
   "cell_type": "markdown",
   "id": "898571d2-107c-46e8-9383-0123e1d8ca28",
   "metadata": {},
   "source": [
    "# Type Casting\n",
    "\n",
    "In Python, type casting (or type conversion) refers to changing the data type of a value from one type to another. This is a common operation when you want to perform arithmetic operations, manipulate data, or interact with different types of variables. There are two main types of type casting: implicit and explicit.\n",
    "\n",
    "This example illustrates the purpose for type casting, here this tries to combine a string with an int:"
   ]
  },
  {
   "cell_type": "code",
   "execution_count": null,
   "id": "130b1a7b-95b6-475f-83bf-a6efd37802cf",
   "metadata": {},
   "outputs": [],
   "source": [
    "num_str = \"10\"\n",
    "num_int = 11\n",
    "result = num_str + num_int"
   ]
  },
  {
   "cell_type": "markdown",
   "id": "188a0de7-3754-462f-a1ba-0c8e88fe7e8e",
   "metadata": {},
   "source": [
    "As shown, we get the error `TypeError: can only concatenate str (not \"int\") to str`, meaning we cannot combine two values of dissimilar data types. Type casting allows for us to be able to ensure both sides of the operation are of the same type to ensure these errors are not throw in our logic.\n",
    "\n",
    "## Implicit Type Casting\n",
    "\n",
    "Implicit type casting, also known as type coercion, occurs automatically when Python converts one data type to another to perform a specific operation. For example, when you add an integer and a floating-point number, Python implicitly converts the integer to a float to carry out the addition.\n",
    "\n",
    "The following will illustrate implicit type casting:"
   ]
  },
  {
   "cell_type": "code",
   "execution_count": null,
   "id": "428929db-200c-4330-99bc-5772a8179ce8",
   "metadata": {},
   "outputs": [],
   "source": [
    "x = 5        # integer\n",
    "y = 2.5      # float\n",
    "result = x + y\n",
    "print(result)"
   ]
  },
  {
   "cell_type": "markdown",
   "id": "6c6547b4-54b7-4e46-9de6-2c0e9812b0d3",
   "metadata": {},
   "source": [
    "In this case, Python automatically converts the integer `x` to a float before adding it to `y`.\n",
    "\n",
    "## Explicit Type Casting\n",
    "\n",
    "Explicit type casting, on the other hand, requires you to manually convert a value from one data type to another using built-in functions. Python provides several functions for explicit type casting:\n",
    "\n",
    "`int()`: Converts a value to an integer."
   ]
  },
  {
   "cell_type": "code",
   "execution_count": null,
   "id": "4019ac3d-fa33-48b7-807c-cea43117c9bd",
   "metadata": {},
   "outputs": [],
   "source": [
    "num_a = int(\"42\")  # 42\n",
    "num_b = int(3.14)  # 3"
   ]
  },
  {
   "cell_type": "markdown",
   "id": "e181582b-7d33-4a75-a77d-693ee14a257b",
   "metadata": {},
   "source": [
    "`float()`: Converts a value to a float."
   ]
  },
  {
   "cell_type": "code",
   "execution_count": null,
   "id": "4c6a401b-605c-48c9-9113-289a92401917",
   "metadata": {},
   "outputs": [],
   "source": [
    "num_a = float(\"42\")  # 42.0\n",
    "num_b = float(99)    # 99.0"
   ]
  },
  {
   "cell_type": "markdown",
   "id": "5a3ac1d7-3241-4e47-8f06-736e2159c70f",
   "metadata": {},
   "source": [
    "`str()`: Converts a value to a string."
   ]
  },
  {
   "cell_type": "code",
   "execution_count": null,
   "id": "73af1e0c-1edb-406f-ac2b-b51e2d291ca4",
   "metadata": {},
   "outputs": [],
   "source": [
    "str_a = str(42)        # \"42\"\n",
    "str_b = str(3.14)      # \"3.14\""
   ]
  },
  {
   "cell_type": "markdown",
   "id": "3f0c2fe9-330f-41a9-81d2-40455dda9743",
   "metadata": {},
   "source": [
    "`tuple()`: Converts a value to a tuple."
   ]
  },
  {
   "cell_type": "code",
   "execution_count": null,
   "id": "a830078e-2e05-4591-946e-a520a55f28b6",
   "metadata": {},
   "outputs": [],
   "source": [
    "tuple_a = tuple([\"a\", \"b\", \"c\"])  # (\"a\", \"b\", \"c\")\n",
    "tuple_b = tuple(\"def\")            # (\"d\", \"e\", \"f\")\n",
    "tuple_c = tuple({\"g\", \"h\", \"i\"})  # (\"g\", \"h\", \"i\")"
   ]
  },
  {
   "cell_type": "markdown",
   "id": "c830270f-f730-41e8-abc0-fa323c14f5c1",
   "metadata": {},
   "source": [
    "`list()`: Converts a value to a list."
   ]
  },
  {
   "cell_type": "code",
   "execution_count": null,
   "id": "9aa91488-252b-42d9-bd89-402980d9a96d",
   "metadata": {},
   "outputs": [],
   "source": [
    "list_a = list((\"a\", \"b\", \"c\"))  # [\"a\", \"b\", \"c\"]\n",
    "list_b = list(\"def\")            # [\"d\", \"e\", \"f\"]\n",
    "list_c = list({\"g\", \"h\", \"i\"})  # [\"g\", \"h\", \"i\"]"
   ]
  },
  {
   "cell_type": "markdown",
   "id": "db434752-93b6-4ba3-b8ac-0c5c8a8b0c2e",
   "metadata": {},
   "source": [
    "`dict()`: Converts a value to a dict."
   ]
  },
  {
   "cell_type": "code",
   "execution_count": null,
   "id": "868d65f3-edeb-419c-b1b4-73a8d4b223b9",
   "metadata": {},
   "outputs": [],
   "source": [
    "dict_a = dict([(\"foo\", \"bar\")]) # {\"foo\": \"bar\"}"
   ]
  },
  {
   "cell_type": "markdown",
   "id": "2004b014-9c56-492f-8d40-e96c9e30ace4",
   "metadata": {},
   "source": [
    "Here's an example that illustrates explicit type casting:"
   ]
  },
  {
   "cell_type": "markdown",
   "id": "f9ab5ed9-6c11-4b74-9a48-e9d686444dde",
   "metadata": {},
   "source": [
    "## Type Casting Functions\n",
    "\n",
    "Python provides built-in functions for type casting, as mentioned earlier. You can use these functions to convert between different data types, ensuring your data is in the required format for specific operations.\n",
    "\n",
    "For example, if you receive user input as a string and need to perform mathematical calculations, you can use type casting to convert the input to a numeric data type (e.g., `int` or `float`) before performing the calculations.\n",
    "\n",
    "Type casting is a powerful feature in Python that allows you to work with data in various forms and manipulate it as needed for your applications.\n",
    "\n",
    "By understanding both implicit and explicit type casting, you can effectively manage data types in your Python programs."
   ]
  }
 ],
 "metadata": {
  "kernelspec": {
   "display_name": "Python 3 (ipykernel)",
   "language": "python",
   "name": "python3"
  },
  "language_info": {
   "codemirror_mode": {
    "name": "ipython",
    "version": 3
   },
   "file_extension": ".py",
   "mimetype": "text/x-python",
   "name": "python",
   "nbconvert_exporter": "python",
   "pygments_lexer": "ipython3",
   "version": "3.8.7"
  }
 },
 "nbformat": 4,
 "nbformat_minor": 5
}
