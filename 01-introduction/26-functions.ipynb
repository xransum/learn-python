{
 "cells": [
  {
   "cell_type": "markdown",
   "id": "e86e16ad-f1f2-4f39-8d0a-b866136bc73e",
   "metadata": {},
   "source": [
    "# Functions in Python\n",
    "\n",
    "## Introduction to Functions\n",
    "\n",
    "In Python, a function is a reusable block of code that performs a specific task. Functions are a fundamental concept in programming and are crucial for organizing and structuring your code. By defining functions, you can encapsulate logic, making your code more readable, modular, and easier to maintain.\n",
    "\n",
    "## Defining a Function\n",
    "\n",
    "To define a function in Python, you use the `def` keyword, followed by the function name and a pair of parentheses. You can also specify parameters within the parentheses. The function body is indented and contains the code that performs the desired tasks.\n",
    "\n",
    "Here's the basic syntax for defining a function:\n",
    "\n",
    "```python\n",
    "def function_name(parameters):\n",
    "    # Function body\n",
    "    # Perform actions here\n",
    "```\n",
    "\n",
    "## Function Parameters\n",
    "\n",
    "Functions can accept parameters, which are values that you can pass into the function. Parameters allow you to make your functions more flexible and customizable. When you call a function with parameters, you provide specific values that the function uses to perform its task.\n",
    "\n",
    "### Example: A Simple Function\n",
    "\n",
    "Let's create a simple function called `greet` that takes a name as a parameter and prints a greeting message:"
   ]
  },
  {
   "cell_type": "code",
   "execution_count": null,
   "id": "72c355e9-c6d8-42f1-8c5b-a655ad4c22f2",
   "metadata": {},
   "outputs": [],
   "source": [
    "def greet(name):\n",
    "    print(f\"Hello, {name}!\")\n",
    "\n",
    "# Calling the function\n",
    "greet(\"Alice\")"
   ]
  },
  {
   "cell_type": "markdown",
   "id": "9c73a7e5-85b4-4eb0-b634-39e86cfa6281",
   "metadata": {},
   "source": [
    "Output:\n",
    "```\n",
    "Hello, Alice!\n",
    "```\n",
    "\n",
    "In this example, the `greet` function takes one parameter, `name`, and prints a greeting message using the provided name. When we call the function with `\"Alice\"`, it prints \"Hello, Alice!\".\n",
    "\n",
    "## Return Values\n",
    "\n",
    "Functions can also return values. You use the `return` statement to specify the value to be returned. The returned value can be assigned to a variable or used in other parts of your code.\n",
    "\n",
    "### Example: A Function with a Return Value\n",
    "\n",
    "Let's create a function called `add` that takes two numbers as parameters, adds them, and returns the result:"
   ]
  },
  {
   "cell_type": "code",
   "execution_count": null,
   "id": "babaf574-bd72-47cf-8617-25bafd495ae5",
   "metadata": {},
   "outputs": [],
   "source": [
    "def add(a, b):\n",
    "    result = a + b\n",
    "    return result\n",
    "\n",
    "# Calling the function and storing the result in a variable\n",
    "sum_result = add(5, 3)\n",
    "print(\"Sum:\", sum_result)"
   ]
  },
  {
   "cell_type": "markdown",
   "id": "b2bd8bfd-58f6-4b61-9e1c-8f6050a5e837",
   "metadata": {},
   "source": [
    "Output:\n",
    "```\n",
    "Sum: 8\n",
    "```\n",
    "\n",
    "In this example, the `add` function accepts two parameters, `a` and `b`, adds them together, and returns the result. We call the function with `5` and `3`, and the returned value is stored in the `sum_result` variable.\n",
    "\n",
    "## Default Parameters\n",
    "\n",
    "You can provide default values for function parameters, allowing you to call the function with fewer arguments if needed. Parameters with default values must follow parameters without default values in the function definition.\n",
    "\n",
    "### Example: Function with Default Parameters\n",
    "\n",
    "Let's create a function called `multiply` that takes two numbers and multiplies them. We'll provide a default value of `1` for the second parameter to handle cases where we want to multiply by a single number:"
   ]
  },
  {
   "cell_type": "code",
   "execution_count": null,
   "id": "aa08fded-9519-4417-81d0-3d91f9498ab0",
   "metadata": {},
   "outputs": [],
   "source": [
    "def multiply(a, b=1):\n",
    "    result = a * b\n",
    "    return result\n",
    "\n",
    "# Calling the function with one argument\n",
    "product = multiply(4)\n",
    "print(\"Product:\", product)"
   ]
  },
  {
   "cell_type": "markdown",
   "id": "93ef1d2a-c027-430f-a956-e2a186294c9c",
   "metadata": {},
   "source": [
    "Output:\n",
    "```\n",
    "Product: 4\n",
    "```\n",
    "\n",
    "In this example, the `multiply` function takes two parameters, `a` and `b`. We provide a default value of `1` for `b`, so if we call the function with only one argument, it assumes the second argument is `1`.\n",
    "\n",
    "## Conclusion\n",
    "\n",
    "Functions are powerful tools for structuring your Python code and making it more modular and organized. You can define functions with parameters and return values to perform specific tasks. Understanding how to use functions is essential for writing efficient and readable code."
   ]
  }
 ],
 "metadata": {
  "kernelspec": {
   "display_name": "Python 3 (ipykernel)",
   "language": "python",
   "name": "python3"
  },
  "language_info": {
   "codemirror_mode": {
    "name": "ipython",
    "version": 3
   },
   "file_extension": ".py",
   "mimetype": "text/x-python",
   "name": "python",
   "nbconvert_exporter": "python",
   "pygments_lexer": "ipython3",
   "version": "3.8.7"
  }
 },
 "nbformat": 4,
 "nbformat_minor": 5
}
