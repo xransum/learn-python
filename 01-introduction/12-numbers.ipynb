{
 "cells": [
  {
   "cell_type": "markdown",
   "id": "6b74e12d-b307-4cd1-8820-f802976fd948",
   "metadata": {},
   "source": [
    "# Numbers\n",
    "\n",
    "In Python, you can work with various types of numbers, including integers and floating-point numbers. This document explores the basics of working with numbers, arithmetic operations, type conversion, and some built-in functions related to numbers.\n",
    "\n",
    "## Integers\n",
    "\n",
    "Integers (int) are whole numbers without a fractional part. You can perform various mathematical operations with integers in Python."
   ]
  },
  {
   "cell_type": "code",
   "execution_count": 1,
   "id": "e2e5e4cc-bb80-4a34-b933-98e759309d41",
   "metadata": {},
   "outputs": [],
   "source": [
    "x = 5  # Assign an integer\n",
    "y = 3  # Assign another integer"
   ]
  },
  {
   "cell_type": "markdown",
   "id": "408d12b7-39ce-44f4-879b-b6feb2b96bfb",
   "metadata": {},
   "source": [
    "### Arithmetic Operations\n",
    "\n",
    "Python supports the following arithmetic operations for integers:\n",
    "\n",
    "- Addition (`+`)\n",
    "- Subtraction (`-`)\n",
    "- Multiplication (`*`)\n",
    "- Division (`/`)\n",
    "- Modulus (remainder) (`%`)\n",
    "- Exponentiation (`**`)\n",
    "- Floor division (integer division) (`//`)"
   ]
  },
  {
   "cell_type": "code",
   "execution_count": 2,
   "id": "a5351d55-d251-4912-b2d7-6bab754b673c",
   "metadata": {},
   "outputs": [
    {
     "name": "stdout",
     "output_type": "stream",
     "text": [
      "8\n",
      "2\n",
      "15\n",
      "1.6666666666666667\n",
      "2\n",
      "125\n",
      "1\n"
     ]
    }
   ],
   "source": [
    "sum_result = x + y  # Addition\n",
    "print(sum_result)\n",
    "\n",
    "diff_result = x - y  # Subtraction\n",
    "print(diff_result)\n",
    "\n",
    "prod_result = x * y  # Multiplication\n",
    "print(prod_result)\n",
    "\n",
    "div_result = x / y  # Division\n",
    "print(div_result)\n",
    "\n",
    "mod_result = x % y  # Modulus (remainder)\n",
    "print(mod_result)\n",
    "\n",
    "exp_result = x ** y  # Exponentiation\n",
    "print(exp_result)\n",
    "\n",
    "floor_div_result = x // y  # Floor division (integer division)\n",
    "print(floor_div_result)"
   ]
  },
  {
   "cell_type": "markdown",
   "id": "cfa4b1f5-160e-4cbe-8528-4d1e5f699103",
   "metadata": {},
   "source": [
    "## Floating-Point Numbers\n",
    "\n",
    "Floating-point numbers (float) are numbers with a decimal point or in exponential form. They are suitable for representing real numbers in scientific computations."
   ]
  },
  {
   "cell_type": "code",
   "execution_count": 3,
   "id": "1ca02289-7c25-43ff-b6b6-a72a0d0b34f2",
   "metadata": {},
   "outputs": [],
   "source": [
    "a = 3.14  # Assign a float\n",
    "b = 2.0  # Assign another float"
   ]
  },
  {
   "cell_type": "markdown",
   "id": "9eb0650d-31f2-45d0-ab8b-9bfcfea990dd",
   "metadata": {},
   "source": [
    "### Arithmetic Operations\n",
    "\n",
    "Floating-point numbers support the same arithmetic operations as integers."
   ]
  },
  {
   "cell_type": "code",
   "execution_count": 4,
   "id": "66dac079-ff37-4b46-81f2-97939b138bb8",
   "metadata": {},
   "outputs": [
    {
     "name": "stdout",
     "output_type": "stream",
     "text": [
      "5.140000000000001\n",
      "1.1400000000000001\n",
      "6.28\n",
      "1.57\n",
      "9.8596\n"
     ]
    }
   ],
   "source": [
    "sum_float = a + b  # Addition\n",
    "print(sum_float)\n",
    "\n",
    "diff_float = a - b  # Subtraction\n",
    "print(diff_float)\n",
    "\n",
    "prod_float = a * b  # Multiplication\n",
    "print(prod_float)\n",
    "\n",
    "div_float = a / b  # Division\n",
    "print(div_float)\n",
    "\n",
    "exp_float = a ** b  # Exponentiation\n",
    "print(exp_float)"
   ]
  },
  {
   "cell_type": "markdown",
   "id": "228a2b15-a7ba-4f54-a627-991643212fae",
   "metadata": {},
   "source": [
    "### Type Conversion\n",
    "\n",
    "You can convert numbers between integer and float data types using built-in functions."
   ]
  },
  {
   "cell_type": "code",
   "execution_count": 5,
   "id": "64eb45a0-29c8-4ac0-9e20-6c6255adf72a",
   "metadata": {},
   "outputs": [
    {
     "name": "stdout",
     "output_type": "stream",
     "text": [
      "<class 'float'>\n",
      "<class 'int'>\n"
     ]
    }
   ],
   "source": [
    "int_to_float = float(x)  # Convert integer to float\n",
    "float_to_int = int(b)  # Convert float to integer\n",
    "\n",
    "print(type(int_to_float))\n",
    "print(type(float_to_int))"
   ]
  },
  {
   "cell_type": "markdown",
   "id": "14aab836-b8c9-467e-ae47-9da4f4556a1c",
   "metadata": {},
   "source": [
    "### Built-in Number Functions\n",
    "\n",
    "Python provides several built-in functions for working with numbers:\n",
    "\n",
    "- `abs()`: Returns the absolute value of a number.\n",
    "- `round()`: Rounds a floating-point number to the nearest integer.\n",
    "- `max()`: Returns the largest of the input values.\n",
    "- `min()`: Returns the smallest of the input values."
   ]
  },
  {
   "cell_type": "code",
   "execution_count": 6,
   "id": "9f9a2014-26d2-4493-8380-ce523342bba0",
   "metadata": {},
   "outputs": [
    {
     "name": "stdout",
     "output_type": "stream",
     "text": [
      "10\n",
      "4\n",
      "7\n",
      "2\n"
     ]
    }
   ],
   "source": [
    "abs_result = abs(-10)  # Absolute value\n",
    "print(abs_result)\n",
    "\n",
    "round_result = round(3.6)  # Round to the nearest integer\n",
    "print(round_result)\n",
    "\n",
    "max_result = max(5, 7, 2)  # Maximum value\n",
    "print(max_result)\n",
    "\n",
    "min_result = min(5, 7, 2)  # Minimum value\n",
    "print(min_result)"
   ]
  },
  {
   "cell_type": "markdown",
   "id": "a443e46c-3dc8-4314-9612-dae691707b06",
   "metadata": {},
   "source": [
    "### Mathematical Functions\n",
    "\n",
    "Python's `math` module provides a wide range of mathematical functions. To use these functions, you need to import the `math` module."
   ]
  },
  {
   "cell_type": "code",
   "execution_count": 7,
   "id": "89154b08-65b7-4cce-a8ad-d663b36736ed",
   "metadata": {},
   "outputs": [
    {
     "name": "stdout",
     "output_type": "stream",
     "text": [
      "4.0\n",
      "0.6931471805599453\n",
      "-1.0\n"
     ]
    }
   ],
   "source": [
    "import math\n",
    "\n",
    "# Examples\n",
    "sqrt_result = math.sqrt(16)  # Square root\n",
    "print(sqrt_result)\n",
    "\n",
    "log_result = math.log(2)  # Natural logarithm\n",
    "print(log_result)\n",
    "\n",
    "cos_result = math.cos(math.pi)  # Cosine function\n",
    "print(cos_result)"
   ]
  }
 ],
 "metadata": {
  "kernelspec": {
   "display_name": "Python 3 (ipykernel)",
   "language": "python",
   "name": "python3"
  },
  "language_info": {
   "codemirror_mode": {
    "name": "ipython",
    "version": 3
   },
   "file_extension": ".py",
   "mimetype": "text/x-python",
   "name": "python",
   "nbconvert_exporter": "python",
   "pygments_lexer": "ipython3",
   "version": "3.8.7"
  }
 },
 "nbformat": 4,
 "nbformat_minor": 5
}
