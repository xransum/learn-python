{
 "cells": [
  {
   "cell_type": "markdown",
   "id": "fedba38b-9c5e-4dc1-8027-04e7413f8704",
   "metadata": {},
   "source": [
    "# Literals\n",
    "\n",
    "In Python, literals represent fixed values that are used in expressions or assignments. Understanding different types of literals is fundamental for writing Python code. Let's explore the main types of literals in Python:\n",
    "\n",
    "## Numeric Literals\n",
    "\n",
    "Numeric literals are used to represent numerical values. Python supports various numeric types:\n",
    "\n",
    "- **Integers**: Integer literals are whole numbers. They can be positive or negative.\n",
    "- **Floating-Point Numbers**: Floating-point literals represent real numbers and include a decimal point.\n",
    "\n",
    "### Examples of Numeric Literals\n",
    "\n",
    "An integer literal:"
   ]
  },
  {
   "cell_type": "code",
   "execution_count": 1,
   "id": "32798937-91b4-4db5-9a6a-59ba8d08d384",
   "metadata": {},
   "outputs": [],
   "source": [
    "integer_literal = 42"
   ]
  },
  {
   "cell_type": "markdown",
   "id": "aaaa0e57-1984-43a2-953c-8b29a06ae589",
   "metadata": {},
   "source": [
    "A floating-point literal:"
   ]
  },
  {
   "cell_type": "code",
   "execution_count": 2,
   "id": "e83d0f1f-c3f4-4a42-b4d2-a66e3afd7ddf",
   "metadata": {},
   "outputs": [],
   "source": [
    "float_literal = 3.14159"
   ]
  },
  {
   "cell_type": "markdown",
   "id": "66ac3abc-1a47-416c-ae33-a7fd8f3a38d1",
   "metadata": {},
   "source": [
    "## String Literals\n",
    "\n",
    "String literals are used to represent sequences of characters, such as text. Python supports single-quoted ('), double-quoted (\"), and triple-quoted (''' or \"\"\") strings.\n",
    "\n",
    "### Examples of String Literals\n",
    "\n",
    "Single-quoted string:"
   ]
  },
  {
   "cell_type": "code",
   "execution_count": null,
   "id": "160545c3-814e-4c34-b979-3c0eeabce2d8",
   "metadata": {},
   "outputs": [],
   "source": [
    "single_quoted = 'Hello, World!'"
   ]
  },
  {
   "cell_type": "markdown",
   "id": "9a6ad890-4ca3-4217-a21c-c628df74aca0",
   "metadata": {},
   "source": [
    "Double-quoted string:"
   ]
  },
  {
   "cell_type": "code",
   "execution_count": null,
   "id": "4fea223e-6cd9-4937-b65b-b8e5c8eea43d",
   "metadata": {},
   "outputs": [],
   "source": [
    "double_quoted = \"Python Programming\""
   ]
  },
  {
   "cell_type": "markdown",
   "id": "250c8a51-6380-4f23-85e3-31a7a559c36b",
   "metadata": {},
   "source": [
    "Triple-quoted string (useful for multiline strings):"
   ]
  },
  {
   "cell_type": "code",
   "execution_count": null,
   "id": "b2a56dfc-7910-4500-b18f-63ab8065abe8",
   "metadata": {},
   "outputs": [],
   "source": [
    "multiline_string = '''This is a\n",
    "multiline string.'''"
   ]
  },
  {
   "cell_type": "markdown",
   "id": "7bd6594b-41d0-4a85-9768-967b9d2d7d7a",
   "metadata": {},
   "source": [
    "## Boolean Literals\n",
    "\n",
    "Boolean literals represent truth values. In Python, these are `True` and `False`.\n",
    "\n",
    "### Examples of Boolean Literals\n",
    "\n",
    "True boolean:"
   ]
  },
  {
   "cell_type": "code",
   "execution_count": null,
   "id": "5479284e-e04c-4c85-8ec1-2c681a7b049d",
   "metadata": {},
   "outputs": [],
   "source": [
    "is_python_fun = True"
   ]
  },
  {
   "cell_type": "markdown",
   "id": "0bc30444-26c7-44f2-a250-1db21966ac48",
   "metadata": {},
   "source": [
    "False boolean:"
   ]
  },
  {
   "cell_type": "markdown",
   "id": "40d42d7c-b91a-460f-8921-bb9590909ff0",
   "metadata": {},
   "source": [
    "is_learning = False"
   ]
  },
  {
   "cell_type": "markdown",
   "id": "24126ed3-9a12-4d37-b3d5-1beb05c6e67d",
   "metadata": {},
   "source": [
    "## Special Literals\n",
    "\n",
    "Python includes two special literals:\n",
    "\n",
    "- `None`: Represents a null or undefined value.\n",
    "- `Ellipsis` (`...`): Typically used as a placeholder for code yet to be written.\n",
    "\n",
    "### Examples of Special Literals\n",
    "\n",
    "A value that is empty:"
   ]
  },
  {
   "cell_type": "code",
   "execution_count": null,
   "id": "50e4f286-0cba-4b70-8dab-f43e3c35dac8",
   "metadata": {},
   "outputs": [],
   "source": [
    "empty_value = None"
   ]
  },
  {
   "cell_type": "markdown",
   "id": "9dc8761b-4361-44f2-8818-1de1b372fe26",
   "metadata": {},
   "source": [
    "Placeholder code:"
   ]
  },
  {
   "cell_type": "code",
   "execution_count": null,
   "id": "4561c01e-5854-4c9f-9bf3-2e94cfdd4820",
   "metadata": {},
   "outputs": [],
   "source": [
    "some_undone_code = ..."
   ]
  },
  {
   "cell_type": "markdown",
   "id": "8fbb8a11-bd6a-42bb-a5f3-88162df1403f",
   "metadata": {},
   "source": [
    "## Raw String Literals\n",
    "\n",
    "Raw string literals are used when you want to treat backslashes as literal characters instead of escape characters.\n",
    "\n",
    "### Examples of Raw String Literals\n",
    "\n",
    "A raw string of a filepath, where `\\U` and `\\Y` are not render as escape characters:"
   ]
  },
  {
   "cell_type": "code",
   "execution_count": null,
   "id": "af006e5d-2c3c-42f4-815f-47e3a912c86e",
   "metadata": {},
   "outputs": [],
   "source": [
    "raw_string = r'C:\\Users\\YourName'"
   ]
  },
  {
   "cell_type": "markdown",
   "id": "0b29449f-e851-4c69-89ac-61137c6f3554",
   "metadata": {},
   "source": [
    "## Bytes and Bytearray Literals\n",
    "\n",
    "Bytes and bytearray literals represent sequences of bytes. Bytes are immutable, while bytearrays are mutable.\n",
    "\n",
    "### Examples of Bytes and Bytearray Literals\n",
    "\n",
    "Bytes literal:"
   ]
  },
  {
   "cell_type": "code",
   "execution_count": null,
   "id": "163edf8c-128f-456d-b22b-a12609f682a5",
   "metadata": {},
   "outputs": [],
   "source": [
    "bytes_literal = b'Hello'"
   ]
  },
  {
   "cell_type": "markdown",
   "id": "5afba33b-9e3a-4ed4-96df-38256bc83770",
   "metadata": {},
   "source": [
    "Bytearray literal:"
   ]
  },
  {
   "cell_type": "code",
   "execution_count": null,
   "id": "1df492a9-c8cd-45ae-8cb6-7cbce88218d4",
   "metadata": {},
   "outputs": [],
   "source": [
    "bytearray_literal = bytearray([72, 101, 108, 108, 111])"
   ]
  },
  {
   "cell_type": "markdown",
   "id": "493d8c1c-ccd5-44d3-a55e-480dfdeb284c",
   "metadata": {},
   "source": [
    "Understanding these literals is essential for working with different data types and writing Python code effectively. You can use these literals in various contexts, such as assignments, expressions, and function parameters."
   ]
  }
 ],
 "metadata": {
  "kernelspec": {
   "display_name": "Python 3 (ipykernel)",
   "language": "python",
   "name": "python3"
  },
  "language_info": {
   "codemirror_mode": {
    "name": "ipython",
    "version": 3
   },
   "file_extension": ".py",
   "mimetype": "text/x-python",
   "name": "python",
   "nbconvert_exporter": "python",
   "pygments_lexer": "ipython3",
   "version": "3.8.7"
  }
 },
 "nbformat": 4,
 "nbformat_minor": 5
}
