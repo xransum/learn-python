{
 "cells": [
  {
   "cell_type": "markdown",
   "id": "822592a1-e3e1-47e7-befc-fb6259976cae",
   "metadata": {},
   "source": [
    "# Lists\n",
    "\n",
    "In Python, a list is a collection of items that can be of different types, such as integers, strings, or even other lists. Lists are ordered and mutable, which means you can change their content. Lists are defined by enclosing items in square brackets (`[]`) and separating them with commas."
   ]
  },
  {
   "cell_type": "code",
   "execution_count": 1,
   "id": "cc812b7c-7d83-43a7-946c-fd4d67b1ffae",
   "metadata": {},
   "outputs": [],
   "source": [
    "my_list = [1, 2, 3, \"apple\", \"banana\", \"cherry\"]"
   ]
  },
  {
   "cell_type": "markdown",
   "id": "7629a68a-985e-4d0c-842f-f45d00745f1c",
   "metadata": {},
   "source": [
    "## Accessing List Items\n",
    "\n",
    "You can access items in a list by referring to their index number. Python uses 0-based indexing, so the first item has an index of 0, the second item has an index of 1, and so on."
   ]
  },
  {
   "cell_type": "code",
   "execution_count": 2,
   "id": "f3623309-47da-469e-a6f9-b386b1953f80",
   "metadata": {},
   "outputs": [
    {
     "name": "stdout",
     "output_type": "stream",
     "text": [
      "banana\n"
     ]
    }
   ],
   "source": [
    "fruits = [\"apple\", \"banana\", \"cherry\"]\n",
    "print(fruits[1])  # Accesses the second item, which is \"banana\""
   ]
  },
  {
   "cell_type": "markdown",
   "id": "f96c6a0d-7907-464e-832e-e83ed2a25cfb",
   "metadata": {},
   "source": [
    "## Negative Indexing\n",
    "\n",
    "You can also use negative indexing to access items from the end of the list. The last item has an index of -1, the second to last item has an index of -2, and so on."
   ]
  },
  {
   "cell_type": "code",
   "execution_count": 3,
   "id": "f29453a2-da45-499f-9ead-c8b4c8b29ef6",
   "metadata": {},
   "outputs": [
    {
     "name": "stdout",
     "output_type": "stream",
     "text": [
      "cherry\n"
     ]
    }
   ],
   "source": [
    "fruits = [\"apple\", \"banana\", \"cherry\"]\n",
    "print(fruits[-1])  # Accesses the last item, which is \"cherry\""
   ]
  },
  {
   "cell_type": "markdown",
   "id": "84030ed9-a03d-4021-bfac-b4f71b527fee",
   "metadata": {},
   "source": [
    "## Slicing Lists\n",
    "\n",
    "You can specify a range of indexes by using the colon (`:`) operator. This is known as slicing. The result will be a new list containing the specified items."
   ]
  },
  {
   "cell_type": "code",
   "execution_count": 4,
   "id": "6fffd1ad-bd1c-4a24-8065-76d8da7bd7a5",
   "metadata": {},
   "outputs": [
    {
     "name": "stdout",
     "output_type": "stream",
     "text": [
      "['banana', 'cherry', 'date']\n"
     ]
    }
   ],
   "source": [
    "fruits = [\"apple\", \"banana\", \"cherry\", \"date\", \"elderberry\"]\n",
    "subset = fruits[1:4]  # Creates a new list with items from index 1 to 3\n",
    "print(subset)  # Output: [\"banana\", \"cherry\", \"date\"]"
   ]
  },
  {
   "cell_type": "markdown",
   "id": "dd69ce02-ff68-4a7f-855b-e715aa44576d",
   "metadata": {},
   "source": [
    "## Changing List Items\n",
    "\n",
    "You can change the value of a specific item by referring to its index number and assigning a new value."
   ]
  },
  {
   "cell_type": "code",
   "execution_count": 5,
   "id": "7d6c3b1c-4421-4591-8b7c-6e1ab3f62be5",
   "metadata": {},
   "outputs": [
    {
     "name": "stdout",
     "output_type": "stream",
     "text": [
      "['apple', 'kiwi', 'cherry']\n"
     ]
    }
   ],
   "source": [
    "fruits = [\"apple\", \"banana\", \"cherry\"]\n",
    "fruits[1] = \"kiwi\"\n",
    "print(fruits)  # Changes the second item to \"kiwi\""
   ]
  },
  {
   "cell_type": "markdown",
   "id": "42211b4e-9039-47be-9a1d-a665c783b0b5",
   "metadata": {},
   "source": [
    "## List Length\n",
    "\n",
    "To get the number of items in a list, you can use the `len()` function."
   ]
  },
  {
   "cell_type": "code",
   "execution_count": 6,
   "id": "7b70cc1c-426d-4f8f-b800-9af757931e3f",
   "metadata": {},
   "outputs": [
    {
     "name": "stdout",
     "output_type": "stream",
     "text": [
      "3\n"
     ]
    }
   ],
   "source": [
    "fruits = [\"apple\", \"banana\", \"cherry\"]\n",
    "count = len(fruits)\n",
    "print(count)  # Prints the number of items (3)"
   ]
  },
  {
   "cell_type": "markdown",
   "id": "fb501bb5-f11f-479f-8aff-74e078156745",
   "metadata": {},
   "source": [
    "## Adding Items\n",
    "\n",
    "You can add items to the end of a list using the `append()` method or insert items at a specific position using the `insert()` method."
   ]
  },
  {
   "cell_type": "code",
   "execution_count": 7,
   "id": "01d04700-e08f-44d4-8969-6ba2d38e95b3",
   "metadata": {},
   "outputs": [],
   "source": [
    "fruits = [\"apple\", \"banana\", \"cherry\"]\n",
    "fruits.append(\"date\")  # Adds \"date\" to the end of the list\n",
    "fruits.insert(1, \"kiwi\")  # Inserts \"kiwi\" at index 1"
   ]
  },
  {
   "cell_type": "markdown",
   "id": "afdb1907-b5f1-42a4-868d-64269c651a1e",
   "metadata": {},
   "source": [
    "## Removing Items\n",
    "\n",
    "You can remove items from a list using methods like `remove()`, `pop()`, or `del`."
   ]
  },
  {
   "cell_type": "code",
   "execution_count": 8,
   "id": "fc33d3f2-98bc-4d74-862a-1d5b803399e1",
   "metadata": {},
   "outputs": [],
   "source": [
    "fruits = [\"apple\", \"banana\", \"cherry\", \"tomatoe\"]\n",
    "fruits.remove(\"banana\")  # Removes \"banana\" from the list\n",
    "fruits.pop(0)  # Removes the item at index 0 (the first item)\n",
    "del fruits[1]  # Deletes the item at index 1 (the second item)"
   ]
  },
  {
   "cell_type": "markdown",
   "id": "29a1e81d-ad0d-409e-b7bd-cc0e23a5b1ce",
   "metadata": {},
   "source": [
    "## List Comprehensions\n",
    "\n",
    "List comprehensions provide a concise way to create lists based on existing lists. They allow you to apply an expression to each item in a list and create a new list from the results."
   ]
  },
  {
   "cell_type": "code",
   "execution_count": 9,
   "id": "1655b03e-33b9-4002-b815-b9be7787c1c0",
   "metadata": {},
   "outputs": [
    {
     "name": "stdout",
     "output_type": "stream",
     "text": [
      "[1, 4, 9, 16, 25]\n"
     ]
    }
   ],
   "source": [
    "numbers = [1, 2, 3, 4, 5]\n",
    "squared = [x**2 for x in numbers]  # Creates a new list with squared values\n",
    "print(squared)  # Output: [1, 4, 9, 16, 25]"
   ]
  },
  {
   "cell_type": "markdown",
   "id": "ff01d658-ef0f-413e-a761-b843fde52d57",
   "metadata": {},
   "source": [
    "## Built-in List Methods\n",
    "\n",
    "Python provides a variety of built-in methods to manipulate lists. Here are some commonly used methods:\n",
    "\n",
    "- `append()`: Adds an item to the end of the list.\n",
    "- `insert()`: Inserts an item at a specified position.\n",
    "- `remove()`: Removes the first occurrence of a specific item.\n",
    "- `pop()`: Removes an item at a specified position or the last item.\n",
    "- `clear()`: Removes all items from the list.\n",
    "- `reverse()`: Reverses the order of items in the list.\n",
    "- `sort()`: Sorts the items in the list."
   ]
  },
  {
   "cell_type": "code",
   "execution_count": 10,
   "id": "d811a404-e55e-4a76-83a7-cd3481d9726c",
   "metadata": {},
   "outputs": [
    {
     "name": "stdout",
     "output_type": "stream",
     "text": [
      "[1, 2, 3, 4, 5]\n"
     ]
    }
   ],
   "source": [
    "numbers = [3, 1, 4, 2, 5]\n",
    "numbers.sort()  # Sorts the list in ascending order\n",
    "print(numbers)  # Output: [1, 2, 3, 4, 5]"
   ]
  }
 ],
 "metadata": {
  "kernelspec": {
   "display_name": "Python 3 (ipykernel)",
   "language": "python",
   "name": "python3"
  },
  "language_info": {
   "codemirror_mode": {
    "name": "ipython",
    "version": 3
   },
   "file_extension": ".py",
   "mimetype": "text/x-python",
   "name": "python",
   "nbconvert_exporter": "python",
   "pygments_lexer": "ipython3",
   "version": "3.8.7"
  }
 },
 "nbformat": 4,
 "nbformat_minor": 5
}
