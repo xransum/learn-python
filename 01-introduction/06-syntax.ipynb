{
 "cells": [
  {
   "cell_type": "markdown",
   "id": "3a4b3b0d-38a7-4791-95e5-872bcb6461b8",
   "metadata": {},
   "source": [
    "# Syntax\n",
    "\n",
    "Python's syntax is known for its simplicity and readability. Understanding Python's syntax is essential for writing clean and error-free code. In this section, we'll cover the fundamental aspects of Python syntax, including code structure, indentation, whitespace, and code blocks.\n",
    "\n",
    "## Code Structure\n",
    "\n",
    "Python code is organized into logical units, which can include statements, functions, and classes. The code structure defines how your Python program is organized and executed.\n",
    "\n",
    "### Statements\n",
    "\n",
    "Python programs are composed of statements. A statement is a single line of code that performs a specific action. For example, the following are Python statements:"
   ]
  },
  {
   "cell_type": "code",
   "execution_count": 1,
   "id": "ddc62dab-8175-49ec-86d8-99413de7bf3c",
   "metadata": {},
   "outputs": [
    {
     "name": "stdout",
     "output_type": "stream",
     "text": [
      "Hello, world!\n"
     ]
    }
   ],
   "source": [
    "print(\"Hello, world!\")\n",
    "x = 10"
   ]
  },
  {
   "cell_type": "markdown",
   "id": "d5d52b7c-1834-4116-97e6-da9b547b5351",
   "metadata": {},
   "source": [
    "### Indentation\n",
    "\n",
    "Python uses indentation to define code blocks. Unlike other programming languages that use braces or keywords like \"end,\" Python relies on consistent indentation to group statements.\n",
    "\n",
    "For example, in the following Python code, the indented block is part of the `if` statement:"
   ]
  },
  {
   "cell_type": "code",
   "execution_count": 2,
   "id": "947e795a-c98d-43f4-b3b7-11f663001d86",
   "metadata": {},
   "outputs": [
    {
     "name": "stdout",
     "output_type": "stream",
     "text": [
      "x is greater than 5\n"
     ]
    }
   ],
   "source": [
    "if x > 5:\n",
    "    print(\"x is greater than 5\")"
   ]
  },
  {
   "cell_type": "markdown",
   "id": "49ddb862-2cff-4daf-b9b4-b830f3466a4e",
   "metadata": {},
   "source": [
    "## Whitespace\n",
    "\n",
    "Python is sensitive to whitespace, which means that spaces and tabs are used for indentation and alignment. You should use spaces consistently to maintain code readability.\n",
    "\n",
    "Here's an example of good practice:"
   ]
  },
  {
   "cell_type": "code",
   "execution_count": 3,
   "id": "968ab9ac-cb39-4b09-bffd-29f007f381db",
   "metadata": {},
   "outputs": [],
   "source": [
    "x = 5\n",
    "y = 10"
   ]
  },
  {
   "cell_type": "markdown",
   "id": "2f2905f5-f3f8-4efc-bfd8-67845348dda1",
   "metadata": {},
   "source": [
    "The below code illustrates what happens when mixing spaces and tabs:"
   ]
  },
  {
   "cell_type": "code",
   "execution_count": 4,
   "id": "ca5f1f99-d9d3-43b9-a8f3-8813db5629a9",
   "metadata": {},
   "outputs": [
    {
     "ename": "IndentationError",
     "evalue": "unexpected indent (2586397052.py, line 2)",
     "output_type": "error",
     "traceback": [
      "\u001b[1;36m  Cell \u001b[1;32mIn[4], line 2\u001b[1;36m\u001b[0m\n\u001b[1;33m    y = 10  # This will result in an error\u001b[0m\n\u001b[1;37m    ^\u001b[0m\n\u001b[1;31mIndentationError\u001b[0m\u001b[1;31m:\u001b[0m unexpected indent\n"
     ]
    }
   ],
   "source": [
    "x = 5\n",
    "    y = 10  # This line will cause an error."
   ]
  },
  {
   "cell_type": "markdown",
   "id": "a5da2c7c-8eb5-492e-8772-1144ad003766",
   "metadata": {},
   "source": [
    "## Code Blocks\n",
    "\n",
    "Python uses colons (:) to indicate the start of code blocks, such as loops and functions. The code within the block is indented."
   ]
  },
  {
   "cell_type": "code",
   "execution_count": 5,
   "id": "a88fa197-927b-40e6-a9a0-e3575da94d9f",
   "metadata": {},
   "outputs": [
    {
     "name": "stdout",
     "output_type": "stream",
     "text": [
      "0\n",
      "1\n",
      "2\n",
      "3\n",
      "4\n"
     ]
    }
   ],
   "source": [
    "for i in range(5):\n",
    "    print(i)  # This code block is indented"
   ]
  },
  {
   "cell_type": "markdown",
   "id": "3e7a3e98-5e97-49d5-87d5-6ae61f1e7a8b",
   "metadata": {},
   "source": [
    "The use of indentation and colons ensures that your Python code is easy to understand and free from ambiguities.\n",
    "\n",
    "## Conclusion\n",
    "\n",
    "Mastering Python's syntax is the first step to becoming a proficient Python programmer. By understanding code structure, indentation, whitespace, and code blocks, you'll be well on your way to writing clean and maintainable Python code.\n",
    "\n",
    "In the following documents, we'll explore more aspects of Python programming, including keywords and identifiers, data types, type conversion, and much more."
   ]
  }
 ],
 "metadata": {
  "kernelspec": {
   "display_name": "Python 3 (ipykernel)",
   "language": "python",
   "name": "python3"
  },
  "language_info": {
   "codemirror_mode": {
    "name": "ipython",
    "version": 3
   },
   "file_extension": ".py",
   "mimetype": "text/x-python",
   "name": "python",
   "nbconvert_exporter": "python",
   "pygments_lexer": "ipython3",
   "version": "3.8.7"
  }
 },
 "nbformat": 4,
 "nbformat_minor": 5
}
