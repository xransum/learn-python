{
 "cells": [
  {
   "cell_type": "markdown",
   "id": "01119457-a1c4-470e-bd6a-62abee9d2457",
   "metadata": {},
   "source": [
    "# Sets\n",
    "\n",
    "In Python, a set is a collection of unique, unordered elements. Sets are defined by enclosing a comma-separated sequence of elements within curly braces `{}`. Each element in a set must be unique, and the order in which elements are stored may vary. Sets are a fundamental data type in Python and are useful for various operations, such as eliminating duplicates and performing set operations like union and intersection.\n",
    "\n",
    "## Creating Sets\n",
    "\n",
    "You can create a set by placing a comma-separated sequence of elements within curly braces."
   ]
  },
  {
   "cell_type": "code",
   "execution_count": 1,
   "id": "fd69327a-1854-4649-8dd6-e6300a6595c0",
   "metadata": {},
   "outputs": [
    {
     "name": "stdout",
     "output_type": "stream",
     "text": [
      "{'banana', 'apple', 'cherry'}\n"
     ]
    }
   ],
   "source": [
    "fruits = {\"apple\", \"banana\", \"cherry\"}\n",
    "print(fruits)"
   ]
  },
  {
   "cell_type": "markdown",
   "id": "65ae9d47-dfb2-4f8c-95ee-131ad39c68ab",
   "metadata": {},
   "source": [
    "You can also use the `set()` constructor to create a set from a list or other iterable."
   ]
  },
  {
   "cell_type": "code",
   "execution_count": 2,
   "id": "5bfa3668-9e43-4d80-8902-f44801677895",
   "metadata": {},
   "outputs": [
    {
     "name": "stdout",
     "output_type": "stream",
     "text": [
      "{1, 2, 3, 4, 5}\n"
     ]
    }
   ],
   "source": [
    "numbers = set([1, 2, 3, 4, 5])\n",
    "print(numbers)"
   ]
  },
  {
   "cell_type": "markdown",
   "id": "1f869432-8472-4724-93f1-2a97641158f7",
   "metadata": {},
   "source": [
    "## Accessing Set Elements\n",
    "\n",
    "Since sets are unordered, they do not support indexing. However, you can check for the existence of an element using the `in` keyword."
   ]
  },
  {
   "cell_type": "code",
   "execution_count": 3,
   "id": "49a74336-6453-490a-9477-c505e9356798",
   "metadata": {},
   "outputs": [
    {
     "name": "stdout",
     "output_type": "stream",
     "text": [
      "True\n"
     ]
    }
   ],
   "source": [
    "fruits = {\"apple\", \"banana\", \"cherry\"}\n",
    "print(\"banana\" in fruits)  # Checks if \"banana\" is in the set"
   ]
  },
  {
   "cell_type": "markdown",
   "id": "5ac7d99e-2d6d-417e-9153-1c776751ea5f",
   "metadata": {},
   "source": [
    "## Modifying Sets\n",
    "\n",
    "Sets are mutable, which means you can add and remove elements from a set. To add an element, use the `add()` method. To remove an element, use the `remove()` method. If you attempt to remove an element that does not exist, it will raise an error. To avoid this, you can use the `discard()` method, which will not raise an error if the element does not exist."
   ]
  },
  {
   "cell_type": "code",
   "execution_count": 4,
   "id": "c76f8f54-72e5-46c3-828d-41db9bbd0d7b",
   "metadata": {},
   "outputs": [
    {
     "name": "stdout",
     "output_type": "stream",
     "text": [
      "{'orange', 'banana', 'apple', 'cherry'}\n",
      "{'orange', 'apple', 'cherry'}\n",
      "{'orange', 'apple', 'cherry'}\n"
     ]
    }
   ],
   "source": [
    "fruits = {\"apple\", \"banana\", \"cherry\"}\n",
    "\n",
    "fruits.add(\"orange\")  # Adds \"orange\" to the set\n",
    "print(fruits)\n",
    "\n",
    "fruits.remove(\"banana\")  # Removes \"banana\" from the set\n",
    "print(fruits)\n",
    "\n",
    "fruits.discard(\"watermelon\")  # Safely attempts to remove \"watermelon\"\n",
    "print(fruits)"
   ]
  },
  {
   "cell_type": "markdown",
   "id": "9797a58a-c580-469b-be43-c8618e11e90d",
   "metadata": {},
   "source": [
    "## Set Operations\n",
    "\n",
    "Sets allow you to perform various set operations, such as union, intersection, and difference. These operations are useful for comparing and combining sets.\n",
    "\n",
    "- Union: Combines two sets, eliminating duplicates.\n",
    "- Intersection: Returns a set containing elements that are common to both sets.\n",
    "- Difference: Returns a set containing elements present in the first set but not in the second set."
   ]
  },
  {
   "cell_type": "code",
   "execution_count": 5,
   "id": "352c1087-acca-4a70-b33f-652209820b83",
   "metadata": {},
   "outputs": [
    {
     "name": "stdout",
     "output_type": "stream",
     "text": [
      "{1, 2, 3, 4, 5, 6, 7}\n",
      "{3, 4, 5}\n",
      "{1, 2}\n"
     ]
    }
   ],
   "source": [
    "set1 = {1, 2, 3, 4, 5}\n",
    "set2 = {3, 4, 5, 6, 7}\n",
    "\n",
    "union_result = set1.union(set2)  # Union of set1 and set2\n",
    "intersection_result = set1.intersection(set2)  # Intersection of set1 and set2\n",
    "difference_result = set1.difference(set2)  # Difference of set1 - set2\n",
    "\n",
    "print(union_result)\n",
    "print(intersection_result)\n",
    "print(difference_result)"
   ]
  },
  {
   "cell_type": "markdown",
   "id": "af8f694a-1f79-474f-9bc1-1752b1c1cc09",
   "metadata": {},
   "source": [
    "## Set Comprehension\n",
    "\n",
    "Set comprehension is a concise way to create sets based on existing sets, iterables, or conditions."
   ]
  },
  {
   "cell_type": "code",
   "execution_count": 6,
   "id": "74595b68-5787-4cf4-8312-d4c831e15f97",
   "metadata": {},
   "outputs": [
    {
     "name": "stdout",
     "output_type": "stream",
     "text": [
      "{1, 4, 9, 16, 25}\n"
     ]
    }
   ],
   "source": [
    "numbers = {1, 2, 3, 4, 5}\n",
    "squared_numbers = {x**2 for x in numbers}\n",
    "print(squared_numbers)"
   ]
  },
  {
   "cell_type": "markdown",
   "id": "79863074-47a8-42b7-bb21-f8d6746f59f4",
   "metadata": {},
   "source": [
    "## Built-in Set Methods\n",
    "\n",
    "Python provides a variety of built-in methods for manipulating sets. Here are a few examples:\n",
    "\n",
    "- `add()`: Adds an element to the set.\n",
    "- `remove()`: Removes an element from the set (raises an error if the element is not found).\n",
    "- `discard()`: Removes an element from the set (does not raise an error if the element is not found).\n",
    "- `union()`: Returns the union of two sets.\n",
    "- `intersection()`: Returns the intersection of two sets.\n",
    "- `difference()`: Returns the difference between two sets."
   ]
  },
  {
   "cell_type": "code",
   "execution_count": 7,
   "id": "391fe4e6-4c0c-429f-816c-7038a26a496c",
   "metadata": {},
   "outputs": [
    {
     "name": "stdout",
     "output_type": "stream",
     "text": [
      "{'orange', 'banana', 'apple', 'cherry'}\n",
      "{'orange', 'apple', 'cherry'}\n",
      "{'orange', 'apple', 'cherry'}\n",
      "{'kiwi', 'orange', 'strawberry', 'apple', 'cherry'}\n",
      "{'cherry'}\n",
      "{'orange', 'apple'}\n"
     ]
    }
   ],
   "source": [
    "fruits = {\"apple\", \"banana\", \"cherry\"}\n",
    "\n",
    "fruits.add(\"orange\")  # Adds \"orange\" to the set\n",
    "print(fruits)\n",
    "\n",
    "fruits.remove(\"banana\")  # Removes \"banana\" from the set\n",
    "print(fruits)\n",
    "\n",
    "fruits.discard(\"watermelon\")  # Safely attempts to remove \"watermelon\"\n",
    "print(fruits)\n",
    "\n",
    "union_result = fruits.union({\"kiwi\", \"strawberry\"})  # Union of two sets\n",
    "print(union_result)\n",
    "\n",
    "intersection_result = fruits.intersection({\"cherry\", \"strawberry\"})  # Intersection of two sets\n",
    "print(intersection_result)\n",
    "\n",
    "difference_result = fruits.difference({\"cherry\", \"strawberry\"})  # Difference between two sets\n",
    "print(difference_result)"
   ]
  },
  {
   "cell_type": "markdown",
   "id": "1fc0195c-87ce-4e46-842c-bb10b56b339b",
   "metadata": {},
   "source": [
    "Sets are a versatile data type in Python, offering a convenient way to work with unique and unordered collections of elements. Understanding how to create sets, modify them, and perform set operations can be valuable for various programming tasks, such as data deduplication and set-based computations."
   ]
  }
 ],
 "metadata": {
  "kernelspec": {
   "display_name": "Python 3 (ipykernel)",
   "language": "python",
   "name": "python3"
  },
  "language_info": {
   "codemirror_mode": {
    "name": "ipython",
    "version": 3
   },
   "file_extension": ".py",
   "mimetype": "text/x-python",
   "name": "python",
   "nbconvert_exporter": "python",
   "pygments_lexer": "ipython3",
   "version": "3.8.7"
  }
 },
 "nbformat": 4,
 "nbformat_minor": 5
}
