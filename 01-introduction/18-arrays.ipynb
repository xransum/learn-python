{
 "cells": [
  {
   "cell_type": "markdown",
   "id": "a7b35788-6f7e-40a4-a9c5-6b5f44b18f9c",
   "metadata": {},
   "source": [
    "# Arrays\n",
    "\n",
    "In Python, arrays are similar to lists but come with certain differences that make them distinct. These differences are mainly related to their data type and usage. In this document, we'll explore arrays in Python, highlighting what sets them apart from lists.\n",
    "\n",
    "## Arrays vs. Lists\n",
    "\n",
    "1. **Homogeneous Elements:**\n",
    "   - **Arrays:** Arrays in Python are collections of elements of the same data type. This means all elements within an array must be of the same data type, such as integers or strings.\n",
    "   - **Lists:** Lists, on the other hand, can contain elements of different data types within the same list. This flexibility allows you to create heterogeneous lists with various data types.\n",
    "\n",
    "2. **Memory Efficiency:**\n",
    "   - **Arrays:** Arrays are more memory-efficient compared to lists since they store elements of the same data type, which leads to reduced memory overhead.\n",
    "   - **Lists:** Lists may have a higher memory overhead because they can store elements of different data types.\n",
    "\n",
    "## Creating Arrays\n",
    "\n",
    "To create arrays in Python, you need to import the `array` module from the `array` library. Here's how you can create an array:"
   ]
  },
  {
   "cell_type": "code",
   "execution_count": 1,
   "id": "af19dec5-f2de-4182-905e-908ecfc5c0b1",
   "metadata": {},
   "outputs": [
    {
     "name": "stdout",
     "output_type": "stream",
     "text": [
      "array('i', [1, 2, 3, 4, 5])\n",
      "array('d', [1.1, 2.2, 3.3, 4.4, 5.5])\n"
     ]
    }
   ],
   "source": [
    "from array import array\n",
    "\n",
    "# Create an array of integers\n",
    "int_array = array('i', [1, 2, 3, 4, 5])\n",
    "\n",
    "# Create an array of floating-point numbers\n",
    "float_array = array('d', [1.1, 2.2, 3.3, 4.4, 5.5])\n",
    "\n",
    "print(int_array)\n",
    "print(float_array)"
   ]
  },
  {
   "cell_type": "markdown",
   "id": "6537aed6-5d57-44fd-8c52-a58006137d80",
   "metadata": {},
   "source": [
    "## Accessing Elements\n",
    "\n",
    "Accessing elements in an array is similar to accessing elements in a list. You can use the index to retrieve specific elements."
   ]
  },
  {
   "cell_type": "code",
   "execution_count": 2,
   "id": "8334e32e-aa73-48de-b765-d87e43b788a4",
   "metadata": {},
   "outputs": [
    {
     "name": "stdout",
     "output_type": "stream",
     "text": [
      "array('i', [1, 2, 3, 4, 5])\n",
      "1\n",
      "3\n"
     ]
    }
   ],
   "source": [
    "int_array = array('i', [1, 2, 3, 4, 5])\n",
    "\n",
    "# Access the first element (index 0)\n",
    "first_element = int_array[0]\n",
    "\n",
    "# Access the third element (index 2)\n",
    "third_element = int_array[2]\n",
    "\n",
    "print(int_array)\n",
    "print(first_element)\n",
    "print(third_element)"
   ]
  },
  {
   "cell_type": "markdown",
   "id": "6652f9a8-3688-481c-8d55-74b1240b343b",
   "metadata": {},
   "source": [
    "## Conclusion\n",
    "\n",
    "Arrays in Python are suitable for scenarios where you need to work with elements of the same data type efficiently. While lists are more versatile and allow you to work with mixed data types, arrays are more memory-efficient and can be a better choice when dealing with homogeneous data. Understanding the differences between arrays and lists will help you choose the right data structure for your specific needs."
   ]
  }
 ],
 "metadata": {
  "kernelspec": {
   "display_name": "Python 3 (ipykernel)",
   "language": "python",
   "name": "python3"
  },
  "language_info": {
   "codemirror_mode": {
    "name": "ipython",
    "version": 3
   },
   "file_extension": ".py",
   "mimetype": "text/x-python",
   "name": "python",
   "nbconvert_exporter": "python",
   "pygments_lexer": "ipython3",
   "version": "3.8.7"
  }
 },
 "nbformat": 4,
 "nbformat_minor": 5
}
