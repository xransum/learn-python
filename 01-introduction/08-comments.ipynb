{
 "cells": [
  {
   "cell_type": "markdown",
   "id": "931b01d3-6edc-47ab-9c7a-c7cd0b237352",
   "metadata": {},
   "source": [
    "# Comments\n",
    "\n",
    "Comments are essential for documenting your code and providing explanations for yourself and other developers who may read your code. Python allows you to include comments that are not executed as part of your program. They are there for clarification and can make your code more understandable.\n",
    "\n",
    "## Single-Line Comments\n",
    "\n",
    "A single-line comment starts with the `#` character and extends to the end of the line. Anything following the `#` is treated as a comment and is ignored by the Python interpreter."
   ]
  },
  {
   "cell_type": "code",
   "execution_count": 1,
   "id": "07bacfbc-88f1-4f1a-8611-a1b4a2243f00",
   "metadata": {},
   "outputs": [
    {
     "name": "stdout",
     "output_type": "stream",
     "text": [
      "Hello, World\n"
     ]
    }
   ],
   "source": [
    "# This is a single-line comment\n",
    "print(\"Hello, World\")  # This comment is at the end of the line"
   ]
  },
  {
   "cell_type": "markdown",
   "id": "7fbc23c7-aa3e-440c-bc4b-88c62aacb687",
   "metadata": {},
   "source": [
    "## Multi-Line Comments\n",
    "\n",
    "Python does not have a specific syntax for multi-line comments like some other languages. Instead, you can create multi-line comments by using triple-quotes (`'''` or `\"\"\"`) as delimiters. The text within these delimiters is considered a comment."
   ]
  },
  {
   "cell_type": "code",
   "execution_count": 2,
   "id": "b0513622-c085-4413-819e-7280420f251a",
   "metadata": {},
   "outputs": [
    {
     "name": "stdout",
     "output_type": "stream",
     "text": [
      "Hello, World\n"
     ]
    }
   ],
   "source": [
    "'''\n",
    "This is a multi-line comment.\n",
    "You can write multiple lines within triple-quotes.\n",
    "'''\n",
    "print(\"Hello, World\")"
   ]
  },
  {
   "cell_type": "markdown",
   "id": "d4170df7-678c-40ec-a36a-764f6a6acaa3",
   "metadata": {},
   "source": [
    "For transparency sake, this is also what it would look like using double-quotes (`\"\"\"`)."
   ]
  },
  {
   "cell_type": "code",
   "execution_count": 3,
   "id": "40bc7b8a-1aa2-4665-a8e0-d5d0e44a961e",
   "metadata": {},
   "outputs": [
    {
     "name": "stdout",
     "output_type": "stream",
     "text": [
      "Hello, World\n"
     ]
    }
   ],
   "source": [
    "\"\"\"\n",
    "This is a multi-line comment.\n",
    "You can write multiple lines within triple double-quotes.\n",
    "\"\"\"\n",
    "print(\"Hello, World\")"
   ]
  },
  {
   "cell_type": "markdown",
   "id": "2b29f67b-7a06-41c4-a047-80dd80838010",
   "metadata": {},
   "source": [
    "## Commenting Out Code\n",
    "\n",
    "You can use comments to temporarily disable or \"comment out\" lines of code. This can be helpful for debugging or testing without removing the code."
   ]
  },
  {
   "cell_type": "code",
   "execution_count": 4,
   "id": "ee6bc88b-9189-482b-a960-a6e2230b3616",
   "metadata": {},
   "outputs": [
    {
     "name": "stdout",
     "output_type": "stream",
     "text": [
      "This code is NOT commented out!\n"
     ]
    }
   ],
   "source": [
    "# This line of code is commented out.\n",
    "\n",
    "print(\"This code is NOT commented out!\")\n",
    "# print(\"This code is commented out.\")"
   ]
  },
  {
   "cell_type": "markdown",
   "id": "9d3ad998-840c-4991-9f47-a2413de6ec91",
   "metadata": {},
   "source": [
    "## Best Practices for Comments\n",
    "\n",
    "- Use comments to explain complex parts of your code or to provide context.\n",
    "- Keep your comments concise and to the point.\n",
    "- Avoid excessive commenting on straightforward code that is already self-explanatory.\n",
    "- Maintain consistency in your commenting style across your codebase.\n",
    "\n",
    "Including meaningful comments in your code is a good practice that helps others understand your code and aids in your own future reference."
   ]
  }
 ],
 "metadata": {
  "kernelspec": {
   "display_name": "Python 3 (ipykernel)",
   "language": "python",
   "name": "python3"
  },
  "language_info": {
   "codemirror_mode": {
    "name": "ipython",
    "version": 3
   },
   "file_extension": ".py",
   "mimetype": "text/x-python",
   "name": "python",
   "nbconvert_exporter": "python",
   "pygments_lexer": "ipython3",
   "version": "3.8.7"
  }
 },
 "nbformat": 4,
 "nbformat_minor": 5
}
