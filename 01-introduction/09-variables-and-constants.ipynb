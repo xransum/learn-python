{
 "cells": [
  {
   "cell_type": "markdown",
   "id": "3a2732eb-6675-4055-b428-0e4480df55ea",
   "metadata": {},
   "source": [
    "# Variables & Constants\n",
    "\n",
    "In Python, variables and constants are fundamental components used to store and manage data. Understanding how to declare and use them is essential for writing Python programs. We'll cover variables, naming conventions, and the role of constants in this section.\n",
    "\n",
    "## Variables\n",
    "\n",
    "A variable is a named container used to store data values. It allows you to assign a name to a specific piece of data, making it easier to work with and manipulate. To declare a variable in Python, you simply choose a name and use the assignment operator `=` to associate a value with that name.\n",
    "\n",
    "Here's how you declare a variable:"
   ]
  },
  {
   "cell_type": "code",
   "execution_count": 1,
   "id": "c98b4850-b4a2-4389-ae92-f92e53723917",
   "metadata": {},
   "outputs": [],
   "source": [
    "variable_name = 42"
   ]
  },
  {
   "cell_type": "markdown",
   "id": "8619e0da-7309-4b66-9fd4-5df96405c2d2",
   "metadata": {},
   "source": [
    "In the example above, we've declared a variable named `variable_name` and assigned it the value `42`.\n",
    "\n",
    "## Naming Conventions\n",
    "\n",
    "Python has naming conventions to make your code more readable and maintainable:\n",
    "\n",
    "- Use lowercase letters for variable names (e.g., `my_variable`, `count`).\n",
    "- Use uppercase letters for constants (e.g., `PI`, `MAX_VALUE`).\n",
    "- Use underscores to separate words in multi-word variable names (e.g., `user_name`, `total_amount`).\n",
    "\n",
    "## Constants\n",
    "\n",
    "A constant is a variable with a fixed value that does not change during the execution of your program. While Python does not have a built-in constant type, it is a common practice to use uppercase variable names to indicate constants.\n",
    "\n",
    "For example, to define a constant named `PI`, you can use all uppercase letters:"
   ]
  },
  {
   "cell_type": "code",
   "execution_count": 2,
   "id": "5d9a05f5-a608-4da0-9a26-d6863f62dd41",
   "metadata": {},
   "outputs": [],
   "source": [
    "PI = 3.14159"
   ]
  },
  {
   "cell_type": "markdown",
   "id": "19b5cd3a-e1a2-43ee-92c1-9f78bb914a47",
   "metadata": {},
   "source": [
    "In some circumstances, when your code gets a bit more complex, descriptiveness in your variable names and constants would help with code readability."
   ]
  },
  {
   "cell_type": "code",
   "execution_count": 3,
   "id": "26574285-302c-48ef-821d-b184401b7910",
   "metadata": {},
   "outputs": [],
   "source": [
    "VALUE_OF_PI = 3.14159"
   ]
  },
  {
   "cell_type": "markdown",
   "id": "8c04db0f-fcb7-401e-b9b7-51e54247078e",
   "metadata": {},
   "source": [
    "Constants are used to represent values that should remain unchanged throughout the program, such as mathematical constants or configuration settings.\n",
    "\n",
    "By understanding variables, naming conventions, and constants, you can effectively manage data in your Python programs."
   ]
  }
 ],
 "metadata": {
  "kernelspec": {
   "display_name": "Python 3 (ipykernel)",
   "language": "python",
   "name": "python3"
  },
  "language_info": {
   "codemirror_mode": {
    "name": "ipython",
    "version": 3
   },
   "file_extension": ".py",
   "mimetype": "text/x-python",
   "name": "python",
   "nbconvert_exporter": "python",
   "pygments_lexer": "ipython3",
   "version": "3.8.7"
  }
 },
 "nbformat": 4,
 "nbformat_minor": 5
}
