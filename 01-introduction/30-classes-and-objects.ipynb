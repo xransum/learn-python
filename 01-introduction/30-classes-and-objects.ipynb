{
 "cells": [
  {
   "cell_type": "markdown",
   "id": "52ad6676-26f2-4c0d-abab-735c9e5850dd",
   "metadata": {},
   "source": [
    "# Classes and Objects\n",
    "\n",
    "In Python, classes and objects are fundamental concepts that allow you to create and work with user-defined data structures. Understanding classes and objects is crucial for object-oriented programming. Let's dive into these concepts step by step.\n",
    "\n",
    "## Introduction to Classes\n",
    "\n",
    "A class is a blueprint or a template for creating objects. It defines a structure for objects, including their attributes (data) and methods (functions). Classes help you model real-world entities and their behaviors in your code.\n",
    "\n",
    "### Defining a Class\n",
    "\n",
    "To define a class in Python, use the `class` keyword followed by the class name. The class body contains attributes and methods."
   ]
  },
  {
   "cell_type": "code",
   "execution_count": null,
   "id": "6a9962b5-91b4-4a67-beb8-36fc32c8fc97",
   "metadata": {},
   "outputs": [],
   "source": [
    "class MyClass:\n",
    "    # Class attributes\n",
    "    attribute1 = \"Value1\"\n",
    "    attribute2 = \"Value2\"\n",
    "    \n",
    "    # Class method\n",
    "    def class_method(self):\n",
    "        return \"Hello from MyClass\""
   ]
  },
  {
   "cell_type": "markdown",
   "id": "ad5c529e-b3a9-4ad4-811a-7a51f12d2092",
   "metadata": {},
   "source": [
    "## Introduction to Objects\n",
    "\n",
    "An object is an instance of a class. It's a specific realization of the class blueprint, with its own unique attributes and methods. You create objects from classes to work with specific data.\n",
    "\n",
    "### Creating Objects\n",
    "\n",
    "To create an object from a class, you call the class as if it were a function."
   ]
  },
  {
   "cell_type": "code",
   "execution_count": null,
   "id": "9b389d35-a711-4124-9598-82299cdd79ab",
   "metadata": {},
   "outputs": [],
   "source": [
    "# Create an object from MyClass\n",
    "my_object = MyClass()"
   ]
  },
  {
   "cell_type": "markdown",
   "id": "9817de64-29b2-4d83-bcb2-1ebd58ecc58f",
   "metadata": {},
   "source": [
    "## Accessing Attributes and Methods\n",
    "\n",
    "You can access attributes and methods of an object using the dot notation."
   ]
  },
  {
   "cell_type": "code",
   "execution_count": null,
   "id": "d335dbec-e21e-4b35-81c8-514e9711b667",
   "metadata": {},
   "outputs": [],
   "source": [
    "# Accessing attributes\n",
    "value1 = my_object.attribute1\n",
    "value2 = my_object.attribute2\n",
    "\n",
    "# Calling methods\n",
    "result = my_object.class_method()"
   ]
  },
  {
   "cell_type": "markdown",
   "id": "769a4519-4f67-4ad5-b239-1e0eaa7fd03c",
   "metadata": {},
   "source": [
    "## Example: Creating a Person Class\n",
    "\n",
    "Let's create a `Person` class with attributes and methods to represent a person's information."
   ]
  },
  {
   "cell_type": "code",
   "execution_count": null,
   "id": "3fdcba28-807b-4ec3-bf2e-685353041796",
   "metadata": {},
   "outputs": [],
   "source": [
    "class Person:\n",
    "    # Attributes\n",
    "    name = \"\"\n",
    "    age = 0\n",
    "    \n",
    "    # Constructor (Initializer) method\n",
    "    def __init__(self, name, age):\n",
    "        self.name = name\n",
    "        self.age = age\n",
    "    \n",
    "    # Method to greet\n",
    "    def greet(self):\n",
    "        return f\"Hello, my name is {self.name} and I am {self.age} years old.\""
   ]
  },
  {
   "cell_type": "markdown",
   "id": "705984e5-52ed-423f-b1a4-1759ce2bb801",
   "metadata": {},
   "source": [
    "Now, let's create a `Person` object and use it."
   ]
  },
  {
   "cell_type": "code",
   "execution_count": null,
   "id": "eff6a082-aa53-4bac-8ee3-70fc788ee1a1",
   "metadata": {},
   "outputs": [],
   "source": [
    "# Create a Person object\n",
    "person1 = Person(\"Alice\", 30)\n",
    "\n",
    "# Access attributes\n",
    "print(person1.name)  # Output: \"Alice\"\n",
    "print(person1.age)   # Output: 30\n",
    "\n",
    "# Call the greet method\n",
    "greeting = person1.greet()\n",
    "print(greeting)      # Output: \"Hello, my name is Alice and I am 30 years old.\""
   ]
  },
  {
   "cell_type": "markdown",
   "id": "03ad5d33-575c-4bda-9748-0c76a2feea5f",
   "metadata": {},
   "source": [
    "## Conclusion\n",
    "\n",
    "Classes and objects are essential for organizing and modeling data in Python. They help you create structured and reusable code by defining blueprints for your data entities.\n",
    "\n",
    "This is just the beginning of understanding classes and objects in Python. You can further explore concepts like inheritance and polymorphism to build more complex and feature-rich class hierarchies."
   ]
  }
 ],
 "metadata": {
  "kernelspec": {
   "display_name": "Python 3 (ipykernel)",
   "language": "python",
   "name": "python3"
  },
  "language_info": {
   "codemirror_mode": {
    "name": "ipython",
    "version": 3
   },
   "file_extension": ".py",
   "mimetype": "text/x-python",
   "name": "python",
   "nbconvert_exporter": "python",
   "pygments_lexer": "ipython3",
   "version": "3.8.7"
  }
 },
 "nbformat": 4,
 "nbformat_minor": 5
}
