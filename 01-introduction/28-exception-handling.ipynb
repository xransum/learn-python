{
 "cells": [
  {
   "cell_type": "markdown",
   "id": "3944ecca-5000-481a-b747-c55b8355a08c",
   "metadata": {},
   "source": [
    "# Exception Handling in Python\n",
    "\n",
    "## Introduction\n",
    "\n",
    "Exception handling is an essential concept in Python programming. It allows you to gracefully deal with unexpected errors that can occur during the execution of your code. Properly handling exceptions enhances the reliability of your programs and prevents them from crashing due to unforeseen issues.\n",
    "\n",
    "In this guide, we will explore Python's exception handling mechanisms, including how to raise and catch exceptions.\n",
    "\n",
    "## The Basics\n",
    "\n",
    "### Raising Exceptions\n",
    "\n",
    "In Python, exceptions are raised when an error or unexpected event occurs. You can also explicitly raise exceptions using the `raise` statement. Here's how it works:\n",
    "\n",
    "**Raising a custom exception:**"
   ]
  },
  {
   "cell_type": "code",
   "execution_count": 1,
   "id": "566080a3-0ada-4ef4-88f0-81cbf2d3a1bd",
   "metadata": {},
   "outputs": [
    {
     "ename": "Exception",
     "evalue": "This is a custom exception",
     "output_type": "error",
     "traceback": [
      "\u001b[1;31m---------------------------------------------------------------------------\u001b[0m",
      "\u001b[1;31mException\u001b[0m                                 Traceback (most recent call last)",
      "Cell \u001b[1;32mIn[1], line 1\u001b[0m\n\u001b[1;32m----> 1\u001b[0m \u001b[38;5;28;01mraise\u001b[39;00m \u001b[38;5;167;01mException\u001b[39;00m(\u001b[38;5;124m\"\u001b[39m\u001b[38;5;124mThis is a custom exception\u001b[39m\u001b[38;5;124m\"\u001b[39m)\n",
      "\u001b[1;31mException\u001b[0m: This is a custom exception"
     ]
    }
   ],
   "source": [
    "raise Exception(\"This is a custom exception\")"
   ]
  },
  {
   "cell_type": "markdown",
   "id": "374e5f4d-7096-4712-9a1a-a09c6227091a",
   "metadata": {},
   "source": [
    "**Raising a built-in exception:**"
   ]
  },
  {
   "cell_type": "code",
   "execution_count": 2,
   "id": "c71e99bb-c3c2-402a-98e1-a5a20c146725",
   "metadata": {},
   "outputs": [
    {
     "ename": "ValueError",
     "evalue": "Invalid input",
     "output_type": "error",
     "traceback": [
      "\u001b[1;31m---------------------------------------------------------------------------\u001b[0m",
      "\u001b[1;31mValueError\u001b[0m                                Traceback (most recent call last)",
      "Cell \u001b[1;32mIn[2], line 1\u001b[0m\n\u001b[1;32m----> 1\u001b[0m \u001b[38;5;28;01mraise\u001b[39;00m \u001b[38;5;167;01mValueError\u001b[39;00m(\u001b[38;5;124m\"\u001b[39m\u001b[38;5;124mInvalid input\u001b[39m\u001b[38;5;124m\"\u001b[39m)\n",
      "\u001b[1;31mValueError\u001b[0m: Invalid input"
     ]
    }
   ],
   "source": [
    "raise ValueError(\"Invalid input\")"
   ]
  },
  {
   "cell_type": "markdown",
   "id": "78a471df-81ed-4d4f-9607-c459308a755e",
   "metadata": {},
   "source": [
    "You can create your own custom exceptions by defining a new class that inherits from the `Exception` class or one of its subclasses.\n",
    "\n",
    "### Catching Exceptions\n",
    "\n",
    "To handle exceptions, you use a `try...except` block. The code inside the `try` block is executed, and if an exception occurs, the code inside the `except` block is executed."
   ]
  },
  {
   "cell_type": "code",
   "execution_count": 5,
   "id": "f64a20d6-1c0e-46ff-a5cd-2b679c5246b3",
   "metadata": {},
   "outputs": [
    {
     "name": "stdout",
     "output_type": "stream",
     "text": [
      "Division by zero is not allowed\n"
     ]
    }
   ],
   "source": [
    "try:\n",
    "    # Code that may raise an exception\n",
    "    result = 10 / 0\n",
    "except ZeroDivisionError:\n",
    "    # Handle the specific exception\n",
    "    result = \"Division by zero is not allowed\"\n",
    "\n",
    "print(result)"
   ]
  },
  {
   "cell_type": "markdown",
   "id": "e0951f92-1975-4f23-a34b-aea9f706162a",
   "metadata": {},
   "source": [
    "You can have multiple `except` blocks to handle different types of exceptions. The first block that matches the exception type will be executed."
   ]
  },
  {
   "cell_type": "code",
   "execution_count": 6,
   "id": "7c8692f8-3e3b-428a-8897-a6fbe6edc2c7",
   "metadata": {},
   "outputs": [
    {
     "name": "stdout",
     "output_type": "stream",
     "text": [
      "Invalid conversion\n"
     ]
    }
   ],
   "source": [
    "try:\n",
    "    value = int(\"abc\")\n",
    "except ValueError:\n",
    "    print(\"Invalid conversion\")\n",
    "except ZeroDivisionError:\n",
    "    print(\"Division by zero\")"
   ]
  },
  {
   "cell_type": "markdown",
   "id": "c68c85d9-7088-479b-933e-f7e7c2ace66e",
   "metadata": {},
   "source": [
    "### Handling Multiple Exceptions\n",
    "\n",
    "Sometimes, you need to handle multiple exceptions in different ways. You can do this by catching multiple exceptions in a single `except` block."
   ]
  },
  {
   "cell_type": "code",
   "execution_count": 7,
   "id": "4cd01ae0-3cdb-4eab-b742-0bf3631115f6",
   "metadata": {},
   "outputs": [
    {
     "name": "stdout",
     "output_type": "stream",
     "text": [
      "Conversion error\n"
     ]
    }
   ],
   "source": [
    "try:\n",
    "    value = int(\"abc\")\n",
    "except (ValueError, TypeError):\n",
    "    print(\"Conversion error\")"
   ]
  },
  {
   "cell_type": "markdown",
   "id": "c3b07c29-cc78-4748-96f0-d20de14f4cb1",
   "metadata": {},
   "source": [
    "## The `finally` Block\n",
    "\n",
    "The `try...except` blocks can be followed by a `finally` block. The code inside the `finally` block is always executed, whether an exception occurred or not."
   ]
  },
  {
   "cell_type": "code",
   "execution_count": 8,
   "id": "48d0b0e6-ee3f-4d4c-8039-000443af286e",
   "metadata": {},
   "outputs": [
    {
     "name": "stdout",
     "output_type": "stream",
     "text": [
      "This will always be executed\n"
     ]
    }
   ],
   "source": [
    "try:\n",
    "    # Code that may raise an exception\n",
    "    result = 10 / 0\n",
    "except ZeroDivisionError:\n",
    "    # Handle the specific exception\n",
    "    result = \"Division by zero is not allowed\"\n",
    "finally:\n",
    "    print(\"This will always be executed\")"
   ]
  },
  {
   "cell_type": "markdown",
   "id": "c8290e56-aa19-4005-9889-e770b35b9ec6",
   "metadata": {},
   "source": [
    "## Custom Exceptions\n",
    "\n",
    "You can create custom exceptions by defining your own exception classes. This is useful for raising and handling application-specific exceptions."
   ]
  },
  {
   "cell_type": "code",
   "execution_count": 9,
   "id": "272500f8-b097-4ee8-ac97-1e12212c26d1",
   "metadata": {},
   "outputs": [
    {
     "name": "stdout",
     "output_type": "stream",
     "text": [
      "Caught custom exception: This is a custom exception\n"
     ]
    }
   ],
   "source": [
    "class MyCustomException(Exception):\n",
    "    def __init__(self, message):\n",
    "        super().__init__(message)\n",
    "\n",
    "try:\n",
    "    raise MyCustomException(\"This is a custom exception\")\n",
    "except MyCustomException as e:\n",
    "    print(\"Caught custom exception:\", e)"
   ]
  },
  {
   "cell_type": "markdown",
   "id": "35c15f28-ea4a-4e05-a796-4211f9725a22",
   "metadata": {},
   "source": [
    "## Practical Example\n",
    "\n",
    "Here's a practical example that demonstrates how to use exception handling to deal with file I/O and ensure proper cleanup of resources:"
   ]
  },
  {
   "cell_type": "code",
   "execution_count": 10,
   "id": "7fea426b-80e8-40af-a5d4-7129fff7e228",
   "metadata": {},
   "outputs": [
    {
     "name": "stdout",
     "output_type": "stream",
     "text": [
      "File read successfully: Lorem ipsum dolor sit amet, consectetur adipiscing elit.\n",
      "\n",
      "File closed\n"
     ]
    }
   ],
   "source": [
    "try:\n",
    "    file = open(\"example.txt\", \"r\")\n",
    "    data = file.read()\n",
    "except FileNotFoundError:\n",
    "    print(\"File not found\")\n",
    "except IOError:\n",
    "    print(\"An I/O error occurred\")\n",
    "else:\n",
    "    print(\"File read successfully:\", data)\n",
    "finally:\n",
    "    file.close()\n",
    "    print(\"File closed\")"
   ]
  },
  {
   "cell_type": "markdown",
   "id": "6956a451-848f-4e9a-84be-8d34e68f4430",
   "metadata": {},
   "source": [
    "In this example, we open a file, read its contents, and handle potential exceptions. The `finally` block ensures that the file is closed regardless of whether an exception occurred.\n",
    "\n",
    "## Conclusion\n",
    "\n",
    "Exception handling is a fundamental aspect of writing robust and reliable Python programs. By raising, catching, and handling exceptions appropriately, you can ensure that your code gracefully handles unexpected errors and provides a better experience for users."
   ]
  }
 ],
 "metadata": {
  "kernelspec": {
   "display_name": "Python 3 (ipykernel)",
   "language": "python",
   "name": "python3"
  },
  "language_info": {
   "codemirror_mode": {
    "name": "ipython",
    "version": 3
   },
   "file_extension": ".py",
   "mimetype": "text/x-python",
   "name": "python",
   "nbconvert_exporter": "python",
   "pygments_lexer": "ipython3",
   "version": "3.8.7"
  }
 },
 "nbformat": 4,
 "nbformat_minor": 5
}
