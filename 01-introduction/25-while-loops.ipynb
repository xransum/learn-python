{
 "cells": [
  {
   "cell_type": "markdown",
   "id": "d800115a-3895-4862-9b52-aedae97ba12d",
   "metadata": {},
   "source": [
    "# While Loops\n",
    "\n",
    "In Python, a `while` loop is used to repeatedly execute a block of code as long as a specified condition is `True`. This allows you to create dynamic loops that continue until a particular condition is met.\n",
    "\n",
    "## Basic `while` Loop Syntax\n",
    "\n",
    "Here's the basic structure of a `while` loop in Python:\n",
    "\n",
    "```python\n",
    "while condition:\n",
    "    # Code to be executed\n",
    "```\n",
    "\n",
    "The loop continues to execute the code block as long as the `condition` remains `True`. If the `condition` becomes `False`, the loop exits, and the program continues with the next line of code after the loop.\n",
    "\n",
    "## Example: Counting with a `while` Loop\n",
    "\n",
    "Let's create a simple `while` loop that counts from 1 to 5 and prints the numbers:"
   ]
  },
  {
   "cell_type": "code",
   "execution_count": null,
   "id": "8faf48fc-2fd1-462e-a4bb-f0b960af45e3",
   "metadata": {},
   "outputs": [],
   "source": [
    "# Initialize a counter\n",
    "count = 1\n",
    "\n",
    "# Define the condition\n",
    "while count <= 5:\n",
    "    # Print the current value of count\n",
    "    print(count)\n",
    "    # Increment the counter\n",
    "    count += 1\n",
    "\n",
    "print(\"Loop finished\")"
   ]
  },
  {
   "cell_type": "markdown",
   "id": "1c5095dd-40ab-4ed0-b3f5-3f9747cdf567",
   "metadata": {},
   "source": [
    "In this example, the loop starts with `count` equal to 1. As long as `count` is less than or equal to 5, the code block within the `while` loop will execute. Inside the loop, we print the current value of `count`, and then we increment `count` by 1 with `count += 1`. The loop continues until `count` becomes 6, at which point the condition is `False`, and the loop exits.\n",
    "\n",
    "## Example: User Input Validation\n",
    "\n",
    "A common use case for `while` loops is to validate user input. In this example, we'll repeatedly prompt the user for their age until they enter a valid integer:"
   ]
  },
  {
   "cell_type": "code",
   "execution_count": null,
   "id": "7768e6ce-0514-4c11-8c43-5e764631729b",
   "metadata": {},
   "outputs": [],
   "source": [
    "# Initialize age as None\n",
    "age = None\n",
    "\n",
    "# Keep asking for age until a valid input is given\n",
    "while age is None:\n",
    "    try:\n",
    "        age = int(input(\"Enter your age: \"))\n",
    "    except ValueError:\n",
    "        print(\"Invalid input. Please enter a valid integer.\")\n",
    "\n",
    "print(f\"You entered a valid age: {age}\")"
   ]
  },
  {
   "cell_type": "markdown",
   "id": "63185bfe-fd2e-4192-af50-b2ff34b66795",
   "metadata": {},
   "source": [
    "In this example, we initialize `age` as `None`. The `while` loop will keep executing until `age` is assigned a valid integer. We use a `try...except` block to capture any exceptions raised by the `int(input(...))` line, which could occur if the user enters something that cannot be converted to an integer. When a valid age is entered, the loop exits.\n",
    "\n",
    "## Infinite Loops\n",
    "\n",
    "Be cautious when using `while` loops, as an incorrect condition can lead to an infinite loop, causing your program to run indefinitely. Always ensure that the condition eventually becomes `False` to exit the loop.\n",
    "\n",
    "## Conclusion\n",
    "\n",
    "`while` loops are a fundamental part of Python, allowing you to create dynamic and flexible programs. They are valuable for scenarios where you need to repeat an action until a certain condition is met. However, be cautious to avoid infinite loops by ensuring the loop's condition can change to `False`."
   ]
  }
 ],
 "metadata": {
  "kernelspec": {
   "display_name": "Python 3 (ipykernel)",
   "language": "python",
   "name": "python3"
  },
  "language_info": {
   "codemirror_mode": {
    "name": "ipython",
    "version": 3
   },
   "file_extension": ".py",
   "mimetype": "text/x-python",
   "name": "python",
   "nbconvert_exporter": "python",
   "pygments_lexer": "ipython3",
   "version": "3.8.7"
  }
 },
 "nbformat": 4,
 "nbformat_minor": 5
}
