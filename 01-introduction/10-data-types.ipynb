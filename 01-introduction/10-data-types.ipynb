{
 "cells": [
  {
   "cell_type": "markdown",
   "id": "74740ef9-4d0c-495e-a973-2f6fa5d88fcd",
   "metadata": {},
   "source": [
    "# Data Types\n",
    "\n",
    "In Python, data types are crucial as they define the type of data a variable can hold. Understanding data types is fundamental for writing robust and efficient Python code. Python provides a variety of built-in data types that serve different purposes. In this section, we will explore the fundamental data types and introduce you to some common data structures.\n",
    "\n",
    "## Numeric Data Types\n",
    "\n",
    "**Integer (int):** Integers are whole numbers, both positive and negative, without a fractional part. They can be defined using a simple assignment, like `x = 42`."
   ]
  },
  {
   "cell_type": "code",
   "execution_count": null,
   "id": "1b71d6f5-f36b-4703-960c-545bba7422cc",
   "metadata": {},
   "outputs": [],
   "source": [
    "x = 10\n",
    "y = 12345667789"
   ]
  },
  {
   "cell_type": "markdown",
   "id": "c2c1343b-172a-4ee0-ae0f-90a7bb56a11d",
   "metadata": {},
   "source": [
    "**Floating-Point (float):** Floating-point numbers represent real numbers and can include a decimal point. For example, `y = 3.14` defines a floating-point variable."
   ]
  },
  {
   "cell_type": "code",
   "execution_count": null,
   "id": "5083685e-1ec9-427a-8b51-bc660eaf9969",
   "metadata": {},
   "outputs": [],
   "source": [
    "pi = 3.14159"
   ]
  },
  {
   "cell_type": "markdown",
   "id": "bfc00756-b98f-4080-92ec-ee5260559ff2",
   "metadata": {},
   "source": [
    "## Text Data Type\n",
    "\n",
    "**String (str):** Strings are used to represent text data. You can enclose a string in single (' ') or double (\" \") quotes. For instance, `name = \"Alice\"` defines a string variable.\n",
    "\n",
    "Single-quotes:"
   ]
  },
  {
   "cell_type": "code",
   "execution_count": 7,
   "id": "b52a76d7-6d25-4400-89f2-426998b13071",
   "metadata": {},
   "outputs": [],
   "source": [
    "name = 'Bob'"
   ]
  },
  {
   "cell_type": "markdown",
   "id": "e22351ab-35bb-43e1-bb37-63beedb3f2a1",
   "metadata": {},
   "source": [
    "Double-quotes:"
   ]
  },
  {
   "cell_type": "code",
   "execution_count": 10,
   "id": "ea4bfd4a-936e-4196-8305-53edef8bbdb0",
   "metadata": {},
   "outputs": [],
   "source": [
    "name = \"Bob\""
   ]
  },
  {
   "cell_type": "markdown",
   "id": "d823a251-ba7b-4b1c-9bb5-b5a58c0cd68b",
   "metadata": {},
   "source": [
    "Multi-line single-quotes:"
   ]
  },
  {
   "cell_type": "code",
   "execution_count": 9,
   "id": "61d352c5-5486-4cb2-9101-244a9ad8c3ae",
   "metadata": {},
   "outputs": [],
   "source": [
    "name = '''Bob\n",
    "Marley'''"
   ]
  },
  {
   "cell_type": "markdown",
   "id": "59e7fc91-e98f-4ed8-be52-00ec1e65af99",
   "metadata": {},
   "source": [
    "Multi-line double-quotes:"
   ]
  },
  {
   "cell_type": "code",
   "execution_count": 8,
   "id": "cd8f5c3d-adbe-43db-af52-d0b20d9b40c0",
   "metadata": {},
   "outputs": [],
   "source": [
    "name = \"\"\"Bob\n",
    "Marley\"\"\""
   ]
  },
  {
   "cell_type": "markdown",
   "id": "aa5c4d48-475d-43fb-b4fb-a14d767b101a",
   "metadata": {},
   "source": [
    "## Boolean Data Type\n",
    "\n",
    "**Boolean (bool):** Booleans represent either `True` or `False` values. They are often used for conditions and comparisons. For example, `flag = True` sets a boolean variable to `True`."
   ]
  },
  {
   "cell_type": "markdown",
   "id": "89f00bdf-4c26-4c62-8c2a-632a3b2af9c4",
   "metadata": {},
   "source": [
    "True boolean value:"
   ]
  },
  {
   "cell_type": "code",
   "execution_count": null,
   "id": "e7988372-d8fa-4cb2-bead-88c4c24a9687",
   "metadata": {},
   "outputs": [],
   "source": [
    "flag = True"
   ]
  },
  {
   "cell_type": "markdown",
   "id": "24b10823-f32b-4261-ac45-d39d9dc2fa7d",
   "metadata": {},
   "source": [
    "False boolean value:"
   ]
  },
  {
   "cell_type": "code",
   "execution_count": null,
   "id": "7f807b22-0af4-494e-87c7-7dd14a38efd3",
   "metadata": {},
   "outputs": [],
   "source": [
    "flag = False"
   ]
  },
  {
   "cell_type": "markdown",
   "id": "ea903a7f-727f-4b04-a99d-3a1b77ca6965",
   "metadata": {},
   "source": [
    "## Common Data Structures\n",
    "\n",
    "**List:** A list is an ordered collection of elements. It can contain items of different data types. To define a list, you can use square brackets:"
   ]
  },
  {
   "cell_type": "code",
   "execution_count": null,
   "id": "060b1039-0505-4906-9dbe-757c1513e25f",
   "metadata": {},
   "outputs": [],
   "source": [
    "my_list = [1, \"apple\", True]"
   ]
  },
  {
   "cell_type": "markdown",
   "id": "7ab81b3f-af58-43a7-bcb5-67db0077780a",
   "metadata": {},
   "source": [
    "**Tuple:** A tuple is similar to a list but is immutable, meaning its elements cannot be changed after creation. You can define a tuple using parentheses, like:"
   ]
  },
  {
   "cell_type": "code",
   "execution_count": null,
   "id": "63be3fde-ddc2-4dd0-a593-986ffcedd8ee",
   "metadata": {},
   "outputs": [],
   "source": [
    "my_tuple = (1, \"banana\", False)"
   ]
  },
  {
   "cell_type": "markdown",
   "id": "5652a215-25d2-407a-993c-f804a070b73f",
   "metadata": {},
   "source": [
    "**Dictionary:** A dictionary is a collection of key-value pairs. You can create a dictionary using curly braces and colons:"
   ]
  },
  {
   "cell_type": "code",
   "execution_count": null,
   "id": "bb864227-7e13-46d1-b87e-f6c13493cc41",
   "metadata": {},
   "outputs": [],
   "source": [
    "my_dict = {\"name\": \"Bob\", \"age\": 30}"
   ]
  },
  {
   "cell_type": "markdown",
   "id": "67de4c56-7843-40bd-8d95-58776450625b",
   "metadata": {},
   "source": [
    "**Set:** A set is an unordered collection of unique elements. You can define a set using curly braces, for instance:"
   ]
  },
  {
   "cell_type": "code",
   "execution_count": null,
   "id": "a6589b11-9bc2-440a-bf10-22842df05e1a",
   "metadata": {},
   "outputs": [],
   "source": [
    "my_set = {1, 2, 3}"
   ]
  },
  {
   "cell_type": "markdown",
   "id": "bd633a61-b7dd-4f00-ab34-10139c8ca409",
   "metadata": {},
   "source": [
    "## Type Checking\n",
    "\n",
    "In Python, you can check the data type of a variable using the `type()` function. For example:"
   ]
  },
  {
   "cell_type": "code",
   "execution_count": 11,
   "id": "a05ab106-d23b-4a77-94fd-9e859cdd78bb",
   "metadata": {},
   "outputs": [
    {
     "name": "stdout",
     "output_type": "stream",
     "text": [
      "<class 'int'>\n"
     ]
    }
   ],
   "source": [
    "x = 42\n",
    "print(type(x))"
   ]
  },
  {
   "cell_type": "markdown",
   "id": "246431b7-7f63-4fa3-99ac-2fa99f3801b6",
   "metadata": {},
   "source": [
    "You can do this with nearly everything that is assignable to a variable or declarable."
   ]
  },
  {
   "cell_type": "code",
   "execution_count": null,
   "id": "0506900e-a162-4c39-b0e4-7807fad562e7",
   "metadata": {},
   "outputs": [],
   "source": [
    "name = \"Alice\"\n",
    "print(type(name))"
   ]
  },
  {
   "cell_type": "markdown",
   "id": "b740bc79-c9c2-42bf-99bb-3e140a025432",
   "metadata": {},
   "source": [
    "As an example, here's what it looks like for all of the types:"
   ]
  },
  {
   "cell_type": "code",
   "execution_count": 13,
   "id": "c4fa7bf7-619e-4cdc-8867-0a7aec10a622",
   "metadata": {},
   "outputs": [
    {
     "name": "stdout",
     "output_type": "stream",
     "text": [
      "<class 'int'>\n",
      "<class 'float'>\n",
      "<class 'str'>\n",
      "<class 'bool'>\n",
      "<class 'list'>\n",
      "<class 'tuple'>\n",
      "<class 'dict'>\n",
      "<class 'set'>\n"
     ]
    }
   ],
   "source": [
    "print(type(1337))\n",
    "print(type(3.1415))\n",
    "print(type('Bob'))\n",
    "print(type(True))\n",
    "print(type([1, \"apple\", True]))\n",
    "print(type((1, \"banana\", False)))\n",
    "print(type({\"name\": \"Bob\", \"age\": 30}))\n",
    "print(type({1, 2, 3}))"
   ]
  },
  {
   "cell_type": "markdown",
   "id": "57139a9e-7597-43a4-9778-deae3b01d8eb",
   "metadata": {},
   "source": [
    "Understanding data types allows you to work with different kinds of data and perform operations specific to each data type. It's a fundamental concept in Python programming."
   ]
  }
 ],
 "metadata": {
  "kernelspec": {
   "display_name": "Python 3 (ipykernel)",
   "language": "python",
   "name": "python3"
  },
  "language_info": {
   "codemirror_mode": {
    "name": "ipython",
    "version": 3
   },
   "file_extension": ".py",
   "mimetype": "text/x-python",
   "name": "python",
   "nbconvert_exporter": "python",
   "pygments_lexer": "ipython3",
   "version": "3.8.7"
  }
 },
 "nbformat": 4,
 "nbformat_minor": 5
}
