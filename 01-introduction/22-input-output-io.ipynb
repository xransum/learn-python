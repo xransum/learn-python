{
 "cells": [
  {
   "cell_type": "markdown",
   "id": "05c0d5ee-e900-416c-882e-ea856cdec61f",
   "metadata": {},
   "source": [
    "# Input and Output (I/O)\n",
    "\n",
    "Input and output (I/O) are fundamental concepts in programming. They allow your Python programs to interact with users by accepting input and displaying output. Python provides various functions and methods for handling I/O operations, making it versatile for both basic and advanced input and output tasks.\n",
    "\n",
    "## User Input\n",
    "\n",
    "To obtain user input in Python, you can use the `input()` function. It reads a line of text entered by the user and returns it as a string. Here's a simple example:"
   ]
  },
  {
   "cell_type": "code",
   "execution_count": null,
   "id": "1de24d16-7484-4582-8c40-43ae5d338dd0",
   "metadata": {},
   "outputs": [],
   "source": [
    "user_input = input(\"Enter your name: \")\n",
    "print(\"Hello, \" + user_input + \"!\")"
   ]
  },
  {
   "cell_type": "markdown",
   "id": "ebe1ba0a-7de3-4d80-bca2-247b7b3ae037",
   "metadata": {},
   "source": [
    "In this example, `input(\"Enter your name: \")` displays a prompt to the user, and the entered text is stored in the `user_input` variable.\n",
    "\n",
    "## Output\n",
    "\n",
    "Python offers several ways to display output, but one of the most common is using the `print()` function. You can use it to output text and variables, with optional formatting."
   ]
  },
  {
   "cell_type": "code",
   "execution_count": 1,
   "id": "793ed4a3-be57-4121-b53e-fd06a605aabe",
   "metadata": {},
   "outputs": [
    {
     "name": "stdout",
     "output_type": "stream",
     "text": [
      "Name: John\n",
      "Age: 30\n"
     ]
    }
   ],
   "source": [
    "name = \"John\"\n",
    "age = 30\n",
    "\n",
    "print(\"Name:\", name)\n",
    "print(\"Age:\", age)"
   ]
  },
  {
   "cell_type": "markdown",
   "id": "8c6db812-4b3a-477f-90d7-666c569b1969",
   "metadata": {},
   "source": [
    "With the expected output being:\n",
    "\n",
    "```\n",
    "Name: John\n",
    "Age: 30\n",
    "```\n",
    "\n",
    "## Formatted Output\n",
    "\n",
    "You can format output using placeholders in the `print()` function. The `%` operator is used to insert values into the string."
   ]
  },
  {
   "cell_type": "code",
   "execution_count": null,
   "id": "800e993b-3313-4486-8cdb-39d0c1ec01ae",
   "metadata": {},
   "outputs": [],
   "source": [
    "name = \"Alice\"\n",
    "age = 25\n",
    "\n",
    "print(\"Name: %s, Age: %d\" % (name, age))"
   ]
  },
  {
   "cell_type": "markdown",
   "id": "911d12a2-8c7a-480a-a017-dcc145622bff",
   "metadata": {},
   "source": [
    "Here, `%s` is a placeholder for a string, and `%d` is for an integer. The values are provided in a tuple after the `%` operator.\n",
    "\n",
    "## f-strings (Python 3.6+)\n",
    "\n",
    "A more modern way to format output is by using f-strings, introduced in Python 3.6. They are concise and offer improved readability:"
   ]
  },
  {
   "cell_type": "code",
   "execution_count": null,
   "id": "ecd865c9-441d-4fc0-8f0a-32d09679f5c3",
   "metadata": {},
   "outputs": [],
   "source": [
    "name = \"Bob\"\n",
    "age = 40\n",
    "\n",
    "print(f\"Name: {name}, Age: {age}\")"
   ]
  },
  {
   "cell_type": "markdown",
   "id": "6e766d52-e301-4f43-9ac2-a6e9df215d5a",
   "metadata": {},
   "source": [
    "The output is the same as the previous example:\n",
    "\n",
    "```\n",
    "Name: Bob, Age: 40\n",
    "```\n",
    "\n",
    "Python's I/O operations make it easy to interact with users and display information in various formats. Understanding these concepts is essential for creating functional and user-friendly applications."
   ]
  }
 ],
 "metadata": {
  "kernelspec": {
   "display_name": "Python 3 (ipykernel)",
   "language": "python",
   "name": "python3"
  },
  "language_info": {
   "codemirror_mode": {
    "name": "ipython",
    "version": 3
   },
   "file_extension": ".py",
   "mimetype": "text/x-python",
   "name": "python",
   "nbconvert_exporter": "python",
   "pygments_lexer": "ipython3",
   "version": "3.8.7"
  }
 },
 "nbformat": 4,
 "nbformat_minor": 5
}
