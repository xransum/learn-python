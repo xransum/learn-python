{
 "cells": [
  {
   "cell_type": "markdown",
   "id": "9b7e40bd-6c11-4860-a62c-05ca187955db",
   "metadata": {},
   "source": [
    "# Lambda Functions\n",
    "\n",
    "## Introduction\n",
    "\n",
    "Lambda functions, also known as anonymous functions, are a concise way to create small, anonymous functions in Python. They are particularly useful when you need a simple function for a short period without the need to define a full function using the `def` keyword. Lambda functions are often used for operations like sorting, filtering, and mapping. In Python, you create lambda functions using the `lambda` keyword.\n",
    "\n",
    "## Syntax\n",
    "\n",
    "The basic syntax for a lambda function is as follows:\n",
    "\n",
    "```python\n",
    "lambda arguments: expression\n",
    "```\n",
    "\n",
    "- `lambda`: The keyword used to create a lambda function.\n",
    "- `arguments`: The input parameters or arguments to the function.\n",
    "- `expression`: The operation to be performed using the arguments and returned as the result.\n",
    "\n",
    "## Example 1: Basic Lambda Function\n",
    "\n",
    "Here's a simple example of a lambda function that adds two numbers:"
   ]
  },
  {
   "cell_type": "code",
   "execution_count": null,
   "id": "939f1a68-0f4a-4213-90ea-84e7d80bcc4d",
   "metadata": {},
   "outputs": [],
   "source": [
    "add = lambda x, y: x + y\n",
    "\n",
    "result = add(5, 3)\n",
    "print(\"Sum:\", result)"
   ]
  },
  {
   "cell_type": "markdown",
   "id": "41dd79c7-b761-4ffb-bb50-111091a392ad",
   "metadata": {},
   "source": [
    "Output:\n",
    "\n",
    "```\n",
    "Sum: 8\n",
    "```\n",
    "\n",
    "In this example, the lambda function `lambda x, y: x + y` takes two arguments `x` and `y` and returns their sum.\n",
    "\n",
    "## Example 2: Using Lambda with Built-in Functions\n",
    "\n",
    "You can use lambda functions with built-in functions like `map()`, `filter()`, and `sorted()` for concise and readable code.\n",
    "\n",
    "### `map()`: Applying a Function to Multiple Elements"
   ]
  },
  {
   "cell_type": "code",
   "execution_count": null,
   "id": "faf4b7bb-7ee3-4f61-8365-b48eb13b94c1",
   "metadata": {},
   "outputs": [],
   "source": [
    "numbers = [1, 2, 3, 4, 5]\n",
    "squared = list(map(lambda x: x ** 2, numbers))\n",
    "\n",
    "print(\"Squared:\", squared)"
   ]
  },
  {
   "cell_type": "markdown",
   "id": "29ea46a6-045f-48f6-aa6f-163c53bc3214",
   "metadata": {},
   "source": [
    "Output:\n",
    "\n",
    "```\n",
    "Squared: [1, 4, 9, 16, 25]\n",
    "```\n",
    "\n",
    "In this example, we use a lambda function to square each element in the `numbers` list.\n",
    "\n",
    "### `filter()`: Filtering Elements Based on a Condition\n",
    "\n",
    "\n",
    "numbers = [1, 2, 3, 4, 5, 6, 7, 8, 9]\n",
    "even_numbers = list(filter(lambda x: x % 2 == 0, numbers))\n",
    "\n",
    "print(\"Even Numbers:\", even_numbers)\n",
    "\n",
    "\n",
    "Output:\n",
    "\n",
    "```\n",
    "Even Numbers: [2, 4, 6, 8]\n",
    "```\n",
    "\n",
    "The lambda function filters out the even numbers from the list.\n",
    "\n",
    "### `sorted()`: Sorting a List"
   ]
  },
  {
   "cell_type": "code",
   "execution_count": null,
   "id": "dbc2270f-bf15-461d-9611-1b169a43fe2a",
   "metadata": {},
   "outputs": [],
   "source": [
    "names = [\"Alice\", \"Bob\", \"Charlie\", \"David\", \"Eve\"]\n",
    "sorted_names = sorted(names, key=lambda name: len(name))\n",
    "\n",
    "print(\"Sorted Names:\", sorted_names)"
   ]
  },
  {
   "cell_type": "markdown",
   "id": "065a8014-3597-47fe-84ec-0d5a935e41bc",
   "metadata": {},
   "source": [
    "Output:\n",
    "\n",
    "```\n",
    "Sorted Names: ['Bob', 'Eve', 'Alice', 'David', 'Charlie']\n",
    "```\n",
    "\n",
    "Here, we sort the list of names based on their lengths using a lambda function as the sorting key.\n",
    "\n",
    "## Conclusion\n",
    "\n",
    "Lambda functions provide a compact way to create simple functions for specific tasks. They are especially useful when you need a small function temporarily. By understanding the syntax and examples of lambda functions, you can use them effectively in your Python code."
   ]
  }
 ],
 "metadata": {
  "kernelspec": {
   "display_name": "Python 3 (ipykernel)",
   "language": "python",
   "name": "python3"
  },
  "language_info": {
   "codemirror_mode": {
    "name": "ipython",
    "version": 3
   },
   "file_extension": ".py",
   "mimetype": "text/x-python",
   "name": "python",
   "nbconvert_exporter": "python",
   "pygments_lexer": "ipython3",
   "version": "3.8.7"
  }
 },
 "nbformat": 4,
 "nbformat_minor": 5
}
