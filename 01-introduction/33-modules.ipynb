{
 "cells": [
  {
   "cell_type": "markdown",
   "id": "fb738921-97bf-4041-9dd9-06f7f4bac8c4",
   "metadata": {},
   "source": [
    "# Modules\n",
    "\n",
    "Python is known for its versatility and power. One of the ways it achieves this is through **modules**, which allow you to organize and reuse your code effectively. In this guide, we will explore modules, learn how to use them, and see why they are vital in Python programming.\n",
    "\n",
    "## What Are Modules?\n",
    "\n",
    "Python modules are files containing Python statements and definitions. The file name is the module name with the suffix `.py` added. For example, a file named `my_module.py` is a module named `my_module`. Modules are used to organize Python code, and they provide a way to encapsulate related code into a single file.\n",
    "\n",
    "## Importing a Module\n",
    "\n",
    "To use the code defined in a module, you need to **import** it into your Python script. The `import` statement allows you to access functions, variables, and classes defined in the module.\n",
    "\n",
    "Let's say you have a module named `my_module.py` with the following content:"
   ]
  },
  {
   "cell_type": "code",
   "execution_count": null,
   "id": "1b8736ac-d113-440a-8b7d-01314ff543d8",
   "metadata": {},
   "outputs": [],
   "source": [
    "# my_module.py\n",
    "\n",
    "def greet(name):\n",
    "    return f\"Hello, {name}!\"\n",
    "\n",
    "pi = 3.14159265359"
   ]
  },
  {
   "cell_type": "markdown",
   "id": "feae1c87-6e7e-48fd-b1a1-4ec51dc78f4f",
   "metadata": {},
   "source": [
    "You can import and use this module in another Python script like this:"
   ]
  },
  {
   "cell_type": "code",
   "execution_count": 6,
   "id": "06bce2fa-4cf4-4e1d-a4a2-f7a464f0000d",
   "metadata": {},
   "outputs": [
    {
     "name": "stdout",
     "output_type": "stream",
     "text": [
      "Hello, Alice!\n",
      "Area of the circle: 78.53981633975\n"
     ]
    }
   ],
   "source": [
    "import my_module\n",
    "\n",
    "result = my_module.greet(\"Alice\")\n",
    "print(result)\n",
    "\n",
    "radius = 5\n",
    "area = my_module.pi * (radius ** 2)\n",
    "print(f\"Area of the circle: {area}\")"
   ]
  },
  {
   "cell_type": "markdown",
   "id": "726479d9-366f-4ba1-91f4-f9c54c42ed9e",
   "metadata": {},
   "source": [
    "In this example, we imported the `my_module` and accessed the `greet` function and the constant `pi` defined in the module.\n",
    "\n",
    "## The `from` Keyword\n",
    "\n",
    "Besides importing an entire module, you can import specific functions, variables, or classes using the `from` keyword. This approach lets you use them directly without specifying the module name."
   ]
  },
  {
   "cell_type": "code",
   "execution_count": 7,
   "id": "632b3d23-ee2f-4d4a-91cd-0ad823b23fb7",
   "metadata": {},
   "outputs": [
    {
     "name": "stdout",
     "output_type": "stream",
     "text": [
      "Hello, Bob!\n"
     ]
    }
   ],
   "source": [
    "from my_module import greet\n",
    "\n",
    "result = greet(\"Bob\")\n",
    "print(result)"
   ]
  },
  {
   "cell_type": "markdown",
   "id": "0d6ad801-52c8-4892-b373-e0dacca99297",
   "metadata": {},
   "source": [
    "## Module Aliases\n",
    "\n",
    "You can also give a module an alias for brevity using the `as` keyword."
   ]
  },
  {
   "cell_type": "code",
   "execution_count": 8,
   "id": "5e573789-eca7-4ab7-b83d-3ee483389ff4",
   "metadata": {},
   "outputs": [
    {
     "name": "stdout",
     "output_type": "stream",
     "text": [
      "Hello, Charlie!\n"
     ]
    }
   ],
   "source": [
    "import my_module as mm\n",
    "\n",
    "result = mm.greet(\"Charlie\")\n",
    "print(result)"
   ]
  },
  {
   "cell_type": "markdown",
   "id": "f90c9ec9-5cc1-4be1-8f47-d533c39c5de7",
   "metadata": {},
   "source": [
    "## Import Everything\n",
    "\n",
    "While it's generally advisable to import only what you need to keep your code clean, you can import everything from a module using `*`. However, use this sparingly as it may lead to naming conflicts and make the code harder to understand."
   ]
  },
  {
   "cell_type": "code",
   "execution_count": 9,
   "id": "13dffdc6-88b0-4eeb-95fb-c6203daec18a",
   "metadata": {},
   "outputs": [
    {
     "name": "stdout",
     "output_type": "stream",
     "text": [
      "Hello, David!\n"
     ]
    }
   ],
   "source": [
    "from my_module import *\n",
    "\n",
    "result = greet(\"David\")\n",
    "print(result)"
   ]
  },
  {
   "cell_type": "markdown",
   "id": "b4eb3784-94bc-427e-86d1-fb230e77a574",
   "metadata": {},
   "source": [
    "## Standard Library Modules\n",
    "\n",
    "Python comes with a rich collection of standard library modules that provide a wide range of functionality. These modules are available for use without needing to install or download anything extra. Examples include `math`, `os`, and `random`.\n",
    "\n",
    "To use a standard library module, you can import it like any other module."
   ]
  },
  {
   "cell_type": "code",
   "execution_count": 10,
   "id": "6a309c4d-9500-4f90-a9b8-f0cbfd1eac20",
   "metadata": {},
   "outputs": [
    {
     "name": "stdout",
     "output_type": "stream",
     "text": [
      "Square root of 16: 4.0\n"
     ]
    }
   ],
   "source": [
    "import math\n",
    "\n",
    "result = math.sqrt(16)\n",
    "print(f\"Square root of 16: {result}\")"
   ]
  },
  {
   "cell_type": "markdown",
   "id": "cfb50465-d723-4bcf-b00b-a9eaf696d85d",
   "metadata": {},
   "source": [
    "## Creating Your Own Modules\n",
    "\n",
    "You can also create your own modules to encapsulate code that you want to reuse in various projects. Simply write your Python code in a `.py` file, and you have a module."
   ]
  },
  {
   "cell_type": "code",
   "execution_count": 11,
   "id": "780908ef-3b7b-40bd-af0e-751c8aca9f87",
   "metadata": {},
   "outputs": [],
   "source": [
    "# my_custom_module.py\n",
    "\n",
    "def add(a, b):\n",
    "    return a + b\n",
    "\n",
    "def subtract(a, b):\n",
    "    return a - b"
   ]
  },
  {
   "cell_type": "markdown",
   "id": "a520e71f-eefd-4942-bb31-c09f858470ad",
   "metadata": {},
   "source": [
    "You can then import and use your custom module in other scripts."
   ]
  },
  {
   "cell_type": "code",
   "execution_count": 4,
   "id": "6319230b-bfda-4d37-b02b-ba0bcd11c033",
   "metadata": {},
   "outputs": [
    {
     "data": {
      "text/plain": [
       "-10"
      ]
     },
     "execution_count": 4,
     "metadata": {},
     "output_type": "execute_result"
    }
   ],
   "source": [
    "# my_script.py\n",
    "from my_custom_module import add, subtract\n",
    "\n",
    "add(10, 20)       # 30\n",
    "subtract(10, 20)  # -10"
   ]
  },
  {
   "cell_type": "markdown",
   "id": "d6f497eb-64ae-4ef4-83be-31016e67b1cb",
   "metadata": {},
   "source": [
    "## Conclusion\n",
    "\n",
    "Modules are a fundamental part of Python that allows you to organize your code, improve reusability, and work with standard library modules. Understanding modules is crucial for any Python programmer, as it is the foundation for building large and complex applications."
   ]
  }
 ],
 "metadata": {
  "kernelspec": {
   "display_name": "Python 3 (ipykernel)",
   "language": "python",
   "name": "python3"
  },
  "language_info": {
   "codemirror_mode": {
    "name": "ipython",
    "version": 3
   },
   "file_extension": ".py",
   "mimetype": "text/x-python",
   "name": "python",
   "nbconvert_exporter": "python",
   "pygments_lexer": "ipython3",
   "version": "3.8.7"
  }
 },
 "nbformat": 4,
 "nbformat_minor": 5
}
