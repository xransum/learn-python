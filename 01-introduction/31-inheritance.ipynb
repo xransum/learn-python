{
 "cells": [
  {
   "cell_type": "markdown",
   "id": "91c02003-dac5-4409-a6e0-16f74857793a",
   "metadata": {},
   "source": [
    "# Inheritance\n",
    "\n",
    "Inheritance is one of the fundamental concepts in object-oriented programming (OOP). It allows you to create a new class (derived or child class) based on an existing class (base or parent class). In Python, you can achieve inheritance easily, and it's a powerful mechanism for code reuse and building more specialized classes.\n",
    "\n",
    "## Understanding the Base Class\n",
    "\n",
    "Before we delve into inheritance, let's create a base class to work with. A base class is the class from which another class inherits properties and behaviors. We'll call it `Animal` and give it some basic attributes and methods:"
   ]
  },
  {
   "cell_type": "code",
   "execution_count": null,
   "id": "e7b74da4-14ad-478a-a9d4-4f5ea1e69fbd",
   "metadata": {},
   "outputs": [],
   "source": [
    "class Animal:\n",
    "    def __init__(self, name, species):\n",
    "        self.name = name\n",
    "        self.species = species\n",
    "\n",
    "    def speak(self):\n",
    "        pass"
   ]
  },
  {
   "cell_type": "markdown",
   "id": "790716bd-d629-4c0a-9245-2cab7738f109",
   "metadata": {},
   "source": [
    "In this example, the `Animal` class has an `__init__` method to initialize `name` and `species`, and a `speak` method that we'll leave empty for now.\n",
    "\n",
    "## Creating a Derived Class\n",
    "\n",
    "To create a derived class, you define a new class with the base class in parentheses. The derived class inherits attributes and methods from the base class."
   ]
  },
  {
   "cell_type": "code",
   "execution_count": null,
   "id": "b7c94ab7-8b79-4fc0-9de8-7b069dbe2c3e",
   "metadata": {},
   "outputs": [],
   "source": [
    "class Dog(Animal):\n",
    "    def speak(self):\n",
    "        return f\"{self.name} barks!\"\n",
    "\n",
    "class Cat(Animal):\n",
    "    def speak(self):\n",
    "        return f\"{self.name} meows!\""
   ]
  },
  {
   "cell_type": "markdown",
   "id": "06b2babc-4264-4d05-ab54-795d3ac09192",
   "metadata": {},
   "source": [
    "In this step, we've created two derived classes, `Dog` and `Cat`, that inherit from the `Animal` class. Each of these classes overrides the `speak` method to provide its own implementation.\n",
    "\n",
    "## Using Inherited Classes\n",
    "\n",
    "Now, let's use our derived classes to create instances and invoke methods:"
   ]
  },
  {
   "cell_type": "code",
   "execution_count": null,
   "id": "67c01504-475f-4efe-a21c-45f0e344f11f",
   "metadata": {},
   "outputs": [],
   "source": [
    "dog = Dog(\"Buddy\", \"Dog\")\n",
    "cat = Cat(\"Whiskers\", \"Cat\")\n",
    "\n",
    "print(dog.speak())  # Output: Buddy barks!\n",
    "print(cat.speak())  # Output: Whiskers meows!"
   ]
  },
  {
   "cell_type": "markdown",
   "id": "f845c265-41af-4943-b731-63de3585da47",
   "metadata": {},
   "source": [
    "In this step, we've created instances of the `Dog` and `Cat` classes and called the `speak` method. Each instance correctly calls the overridden method from its own class.\n",
    "\n",
    "## Accessing Base Class Methods\n",
    "\n",
    "You can also access methods from the base class using the derived class. For example, you might want to call the `__init__` method of the `Animal` class:"
   ]
  },
  {
   "cell_type": "code",
   "execution_count": null,
   "id": "20330a53-a47e-472e-9509-02fa2a307288",
   "metadata": {},
   "outputs": [],
   "source": [
    "class Horse(Animal):\n",
    "    def speak(self):\n",
    "        return f\"{self.name} neighs!\"\n",
    "\n",
    "    def print_info(self):\n",
    "        return f\"{self.name} is a {self.species}\"\n",
    "\n",
    "horse = Horse(\"Thunder\", \"Horse\")\n",
    "\n",
    "print(horse.speak())       # Output: Thunder neighs!\n",
    "print(horse.print_info())  # Output: Thunder is a Horse"
   ]
  },
  {
   "cell_type": "markdown",
   "id": "ad151c09-8bfe-4ec4-8b9e-2ef9b760f4ca",
   "metadata": {},
   "source": [
    "In this step, we've created a `Horse` class that overrides the `speak` method and introduces a new method `print_info`. By calling `__init__` and other methods from the base class, you can reuse code effectively.\n",
    "\n",
    "## Multiple Inheritance\n",
    "\n",
    "Python supports multiple inheritance, meaning a class can inherit from multiple base classes. Here's an example:"
   ]
  },
  {
   "cell_type": "code",
   "execution_count": null,
   "id": "126f4794-e2a6-48dc-9773-d569aa2d45e8",
   "metadata": {},
   "outputs": [],
   "source": [
    "class Bird:\n",
    "    def speak(self):\n",
    "        return f\"{self.name} chirps!\"\n",
    "\n",
    "class Parrot(Dog, Bird):\n",
    "    pass\n",
    "\n",
    "parrot = Parrot(\"Polly\", \"Parrot\")\n",
    "\n",
    "print(parrot.speak())  # Output: Polly barks!"
   ]
  },
  {
   "cell_type": "markdown",
   "id": "bed7398f-4138-4e37-a858-abd996adf1a7",
   "metadata": {},
   "source": [
    "In this step, we've created a `Parrot` class that inherits from both `Dog` and `Bird`. This is an advanced concept, but it shows the flexibility of inheritance in Python."
   ]
  }
 ],
 "metadata": {
  "kernelspec": {
   "display_name": "Python 3 (ipykernel)",
   "language": "python",
   "name": "python3"
  },
  "language_info": {
   "codemirror_mode": {
    "name": "ipython",
    "version": 3
   },
   "file_extension": ".py",
   "mimetype": "text/x-python",
   "name": "python",
   "nbconvert_exporter": "python",
   "pygments_lexer": "ipython3",
   "version": "3.8.7"
  }
 },
 "nbformat": 4,
 "nbformat_minor": 5
}
