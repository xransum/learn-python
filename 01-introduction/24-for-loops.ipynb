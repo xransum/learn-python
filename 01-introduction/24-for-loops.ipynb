{
 "cells": [
  {
   "cell_type": "markdown",
   "id": "4c638260-1b8c-4dc4-9478-ad0a8d3f4bc2",
   "metadata": {},
   "source": [
    "# For Loops\n",
    "\n",
    "## Introduction\n",
    "\n",
    "A \"for loop\" is a fundamental control structure in Python that allows you to repeat a block of code a specified number of times or over the elements of an iterable (e.g., lists, strings, dictionaries). It is a powerful tool for automating repetitive tasks and iterating through collections of data.\n",
    "\n",
    "## Basic \"for\" Loop Syntax\n",
    "\n",
    "The basic syntax of a \"for loop\" in Python is as follows:\n",
    "\n",
    "```python\n",
    "for variable in iterable:\n",
    "    # Code to be repeated\n",
    "```\n",
    "\n",
    "- `variable`: A variable that takes on the values of the elements in the iterable one by one.\n",
    "- `iterable`: The collection you want to loop through, such as a list, string, or range.\n",
    "\n",
    "## Iterating Through a List\n",
    "\n",
    "You can use a \"for loop\" to iterate through the elements of a list:"
   ]
  },
  {
   "cell_type": "code",
   "execution_count": null,
   "id": "442126e9-bb2a-47a6-a467-37f590bdbe4a",
   "metadata": {},
   "outputs": [],
   "source": [
    "fruits = [\"apple\", \"banana\", \"cherry\"]\n",
    "\n",
    "for fruit in fruits:\n",
    "    print(fruit)"
   ]
  },
  {
   "cell_type": "markdown",
   "id": "15fae4be-f07e-4cd8-a658-821b32f497f2",
   "metadata": {},
   "source": [
    "This code will print each fruit in the list on a new line:\n",
    "\n",
    "```\n",
    "apple\n",
    "banana\n",
    "cherry\n",
    "```\n",
    "\n",
    "## Using the \"range\" Function\n",
    "\n",
    "The `range()` function generates a sequence of numbers that you can use with a \"for loop\" to perform a specific number of iterations."
   ]
  },
  {
   "cell_type": "code",
   "execution_count": null,
   "id": "9afb550f-1029-4c62-a62b-766e8be8036e",
   "metadata": {},
   "outputs": [],
   "source": [
    "for i in range(5):\n",
    "    print(i)"
   ]
  },
  {
   "cell_type": "markdown",
   "id": "aae73716-50a1-4c17-8b55-ab2c7935cf23",
   "metadata": {},
   "source": [
    "This code will print the numbers from 0 to 4.\n",
    "\n",
    "```\n",
    "0\n",
    "1\n",
    "2\n",
    "3\n",
    "4\n",
    "```\n",
    "\n",
    "## \"for\" Loop with Strings\n",
    "\n",
    "You can loop through the characters of a string using a \"for loop\":"
   ]
  },
  {
   "cell_type": "code",
   "execution_count": null,
   "id": "c4fd3797-a18c-4c1c-9331-837583a4118e",
   "metadata": {},
   "outputs": [],
   "source": [
    "text = \"Hello, Python\"\n",
    "\n",
    "for char in text:\n",
    "    print(char)"
   ]
  },
  {
   "cell_type": "markdown",
   "id": "bce29d0c-c9ac-4832-afc7-de27057cd082",
   "metadata": {},
   "source": [
    "This code will print each character of the string:\n",
    "\n",
    "```\n",
    "H\n",
    "e\n",
    "l\n",
    "l\n",
    "o\n",
    ",\n",
    " \n",
    "P\n",
    "y\n",
    "t\n",
    "h\n",
    "o\n",
    "n\n",
    "```\n",
    "\n",
    "## Nested \"for\" Loops\n",
    "\n",
    "You can also use nested \"for loops\" to iterate through multiple sequences simultaneously:"
   ]
  },
  {
   "cell_type": "code",
   "execution_count": null,
   "id": "ee160f0b-7ae5-417c-950a-9c5bbf1fbe8d",
   "metadata": {},
   "outputs": [],
   "source": [
    "adjectives = [\"red\", \"green\", \"blue\"]\n",
    "nouns = [\"apple\", \"tree\", \"sky\"]\n",
    "\n",
    "for adj in adjectives:\n",
    "    for noun in nouns:\n",
    "        print(adj, noun)"
   ]
  },
  {
   "cell_type": "markdown",
   "id": "dc6a4378-ced7-45cf-a05f-1210c4271258",
   "metadata": {},
   "source": [
    "This code will generate combinations of adjectives and nouns:\n",
    "\n",
    "```\n",
    "red apple\n",
    "red tree\n",
    "red sky\n",
    "green apple\n",
    "green tree\n",
    "green sky\n",
    "blue apple\n",
    "blue tree\n",
    "blue sky\n",
    "```\n",
    "\n",
    "## Conclusion\n",
    "\n",
    "\"for loops\" are essential for repetitive tasks, and they are widely used in Python for data processing, automation, and more. By mastering \"for loops,\" you can efficiently work with collections of data and solve various programming challenges."
   ]
  }
 ],
 "metadata": {
  "kernelspec": {
   "display_name": "Python 3 (ipykernel)",
   "language": "python",
   "name": "python3"
  },
  "language_info": {
   "codemirror_mode": {
    "name": "ipython",
    "version": 3
   },
   "file_extension": ".py",
   "mimetype": "text/x-python",
   "name": "python",
   "nbconvert_exporter": "python",
   "pygments_lexer": "ipython3",
   "version": "3.8.7"
  }
 },
 "nbformat": 4,
 "nbformat_minor": 5
}
