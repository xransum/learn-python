{
 "cells": [
  {
   "cell_type": "markdown",
   "id": "ff505df4-0148-46a0-8aee-ff1dc17774ee",
   "metadata": {},
   "source": [
    "# Tuples\n",
    "\n",
    "In Python, a tuple is an ordered collection of elements enclosed within parentheses. Tuples are similar to lists, but they are immutable, which means their elements cannot be modified after creation. This document explores various aspects of tuples in Python.\n",
    "\n",
    "## Creating Tuples\n",
    "\n",
    "You can create a tuple by enclosing a sequence of elements in parentheses. Elements within the tuple are separated by commas."
   ]
  },
  {
   "cell_type": "code",
   "execution_count": 1,
   "id": "7c97c718-e75d-44ef-ac27-39ed338d22b2",
   "metadata": {},
   "outputs": [],
   "source": [
    "my_tuple = (1, 2, 3)"
   ]
  },
  {
   "cell_type": "markdown",
   "id": "7763f174-80e1-45ba-9e77-5c4f7b970c52",
   "metadata": {},
   "source": [
    "You can also create a tuple without parentheses, but using commas alone. This is known as tuple packing."
   ]
  },
  {
   "cell_type": "code",
   "execution_count": 2,
   "id": "79dadfb1-2e5a-458c-9b39-61354a85e3af",
   "metadata": {},
   "outputs": [],
   "source": [
    "another_tuple = 4, 5, 6"
   ]
  },
  {
   "cell_type": "markdown",
   "id": "3b9b14df-f019-40ed-b841-9a3c45a2526d",
   "metadata": {},
   "source": [
    "To create a tuple with a single element, you must include a comma after the element to distinguish it from a regular value inside parentheses."
   ]
  },
  {
   "cell_type": "code",
   "execution_count": 3,
   "id": "c4f19031-30eb-4033-b3a5-b625043941f3",
   "metadata": {},
   "outputs": [],
   "source": [
    "single_element_tuple = (7,)"
   ]
  },
  {
   "cell_type": "markdown",
   "id": "f8a80fe5-8362-41e3-b357-d3fdc2dc67b9",
   "metadata": {},
   "source": [
    "## Accessing Elements\n",
    "\n",
    "You can access elements in a tuple using indexing. The first element has an index of 0, the second element has an index of 1, and so on."
   ]
  },
  {
   "cell_type": "code",
   "execution_count": 4,
   "id": "83654006-432d-40c9-ab89-7636ccacf1d2",
   "metadata": {},
   "outputs": [],
   "source": [
    "my_tuple = (1, 2, 3)\n",
    "first_element = my_tuple[0]  # Accesses the first element (1)\n",
    "second_element = my_tuple[1]  # Accesses the second element (2)"
   ]
  },
  {
   "cell_type": "markdown",
   "id": "395ba1dc-e653-4f48-8d7c-84eef8fa85e0",
   "metadata": {},
   "source": [
    "## Tuple Slicing\n",
    "\n",
    "Tuple slicing allows you to access a range of elements in a tuple. It is performed by specifying the start and end indices, separated by a colon `:`."
   ]
  },
  {
   "cell_type": "code",
   "execution_count": 5,
   "id": "1e015dcb-f57b-4e3b-a812-90b5ef7f9194",
   "metadata": {},
   "outputs": [],
   "source": [
    "my_tuple = (1, 2, 3, 4, 5)\n",
    "sliced_tuple = my_tuple[1:4]  # Returns elements from index 1 to 3: (2, 3, 4)"
   ]
  },
  {
   "cell_type": "markdown",
   "id": "f2282543-3039-4274-8d33-3019f856503d",
   "metadata": {},
   "source": [
    "## Modifying Tuples\n",
    "\n",
    "As mentioned earlier, tuples are immutable, meaning their elements cannot be changed after creation. You cannot add, remove, or modify elements within a tuple. However, you can create a new tuple based on an existing one."
   ]
  },
  {
   "cell_type": "code",
   "execution_count": 6,
   "id": "0bba13cc-e37b-4522-9b01-6979b63d99ab",
   "metadata": {},
   "outputs": [],
   "source": [
    "my_tuple = (1, 2, 3)\n",
    "new_tuple = my_tuple + (4, 5, 6)  # Concatenates two tuples to create a new one"
   ]
  },
  {
   "cell_type": "markdown",
   "id": "e1bb4228-80fd-4273-bc59-7dd588d4f39f",
   "metadata": {},
   "source": [
    "## Tuple Methods\n",
    "\n",
    "Tuples have two built-in methods:\n",
    "\n",
    "- `count()`: Counts the number of occurrences of a specified value in the tuple.\n",
    "- `index()`: Returns the index of the first occurrence of a specified value."
   ]
  },
  {
   "cell_type": "code",
   "execution_count": 7,
   "id": "20f44437-67e7-434e-8337-0279d8d21733",
   "metadata": {},
   "outputs": [],
   "source": [
    "my_tuple = (1, 2, 2, 3, 4, 2)\n",
    "count_of_2 = my_tuple.count(2)  # Counts the occurrences of 2 (3 times)\n",
    "index_of_3 = my_tuple.index(3)  # Returns the index of 3 (index 3)"
   ]
  },
  {
   "cell_type": "markdown",
   "id": "432e0074-540d-4a5a-9e26-d163cbd706d8",
   "metadata": {},
   "source": [
    "## Tuple Unpacking\n",
    "\n",
    "Tuple unpacking allows you to assign elements of a tuple to individual variables."
   ]
  },
  {
   "cell_type": "code",
   "execution_count": 8,
   "id": "d144fc93-54eb-4884-842b-fb9afbd0e47b",
   "metadata": {},
   "outputs": [],
   "source": [
    "my_tuple = (10, 20, 30)\n",
    "x, y, z = my_tuple  # Unpacks the tuple into three variables"
   ]
  },
  {
   "cell_type": "markdown",
   "id": "4d3829fd-a669-400a-bc14-32894afe8dc7",
   "metadata": {},
   "source": [
    "## Advantages of Tuples\n",
    "\n",
    "Tuples offer several advantages:\n",
    "\n",
    "- **Immutability**: Elements cannot be modified, providing data integrity.\n",
    "- **Efficiency**: Tuples are faster than lists for iterating through elements.\n",
    "- **Unpacking**: Tuple unpacking simplifies variable assignment.\n",
    "- **Hashable**: Tuples can be used as keys in dictionaries due to their immutability.\n",
    "\n",
    "## Use Cases\n",
    "\n",
    "Tuples are suitable for situations where you want to store a collection of items that should not be modified, such as:\n",
    "\n",
    "- Storing coordinates (x, y) or 2D/3D points.\n",
    "- Representing data records with fixed fields.\n",
    "- Creating keys for dictionaries when ordering matters.\n",
    "\n",
    "## Conclusion\n",
    "\n",
    "Tuples are a versatile and efficient way to work with ordered collections of data in Python. Their immutability and various methods make them valuable in many programming scenarios. Whether you need to ensure data integrity or store fixed records, tuples offer a dependable solution."
   ]
  }
 ],
 "metadata": {
  "kernelspec": {
   "display_name": "Python 3 (ipykernel)",
   "language": "python",
   "name": "python3"
  },
  "language_info": {
   "codemirror_mode": {
    "name": "ipython",
    "version": 3
   },
   "file_extension": ".py",
   "mimetype": "text/x-python",
   "name": "python",
   "nbconvert_exporter": "python",
   "pygments_lexer": "ipython3",
   "version": "3.8.7"
  }
 },
 "nbformat": 4,
 "nbformat_minor": 5
}
